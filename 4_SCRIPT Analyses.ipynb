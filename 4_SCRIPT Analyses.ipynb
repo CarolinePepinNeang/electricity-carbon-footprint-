{
 "cells": [
  {
   "cell_type": "markdown",
   "metadata": {},
   "source": [
    "<h1>PROJET CERTIFICATION : Analyses</h1>"
   ]
  },
  {
   "cell_type": "code",
   "execution_count": 1,
   "metadata": {},
   "outputs": [],
   "source": [
    "# J'importe les librairies nécessaires:\n",
    "import pandas as pd\n",
    "import matplotlib.pyplot as plt\n",
    "import numpy as np\n",
    "import datetime"
   ]
  },
  {
   "cell_type": "markdown",
   "metadata": {},
   "source": [
    "<h2>I- Importation des données</h2>"
   ]
  },
  {
   "cell_type": "code",
   "execution_count": 2,
   "metadata": {},
   "outputs": [
    {
     "data": {
      "text/html": [
       "<div>\n",
       "<style scoped>\n",
       "    .dataframe tbody tr th:only-of-type {\n",
       "        vertical-align: middle;\n",
       "    }\n",
       "\n",
       "    .dataframe tbody tr th {\n",
       "        vertical-align: top;\n",
       "    }\n",
       "\n",
       "    .dataframe thead th {\n",
       "        text-align: right;\n",
       "    }\n",
       "</style>\n",
       "<table border=\"1\" class=\"dataframe\">\n",
       "  <thead>\n",
       "    <tr style=\"text-align: right;\">\n",
       "      <th></th>\n",
       "      <th>timeslot</th>\n",
       "      <th>season</th>\n",
       "      <th>day_night</th>\n",
       "    </tr>\n",
       "  </thead>\n",
       "  <tbody>\n",
       "    <tr>\n",
       "      <th>0</th>\n",
       "      <td>2019-02-10T00:00:00</td>\n",
       "      <td>winter</td>\n",
       "      <td>night</td>\n",
       "    </tr>\n",
       "    <tr>\n",
       "      <th>1</th>\n",
       "      <td>2019-02-10T01:00:00</td>\n",
       "      <td>winter</td>\n",
       "      <td>night</td>\n",
       "    </tr>\n",
       "    <tr>\n",
       "      <th>2</th>\n",
       "      <td>2019-02-10T02:00:00</td>\n",
       "      <td>winter</td>\n",
       "      <td>night</td>\n",
       "    </tr>\n",
       "    <tr>\n",
       "      <th>3</th>\n",
       "      <td>2019-02-10T03:00:00</td>\n",
       "      <td>winter</td>\n",
       "      <td>night</td>\n",
       "    </tr>\n",
       "    <tr>\n",
       "      <th>4</th>\n",
       "      <td>2019-02-10T04:00:00</td>\n",
       "      <td>winter</td>\n",
       "      <td>night</td>\n",
       "    </tr>\n",
       "  </tbody>\n",
       "</table>\n",
       "</div>"
      ],
      "text/plain": [
       "              timeslot  season day_night\n",
       "0  2019-02-10T00:00:00  winter     night\n",
       "1  2019-02-10T01:00:00  winter     night\n",
       "2  2019-02-10T02:00:00  winter     night\n",
       "3  2019-02-10T03:00:00  winter     night\n",
       "4  2019-02-10T04:00:00  winter     night"
      ]
     },
     "execution_count": 2,
     "metadata": {},
     "output_type": "execute_result"
    }
   ],
   "source": [
    "df_timeslots = pd.read_csv('C:/ProgramData/MySQL/MySQL Server 8.0/Uploads/CertificationData/timeslots.csv')\n",
    "df_timeslots.head()"
   ]
  },
  {
   "cell_type": "code",
   "execution_count": 3,
   "metadata": {},
   "outputs": [
    {
     "data": {
      "text/html": [
       "<div>\n",
       "<style scoped>\n",
       "    .dataframe tbody tr th:only-of-type {\n",
       "        vertical-align: middle;\n",
       "    }\n",
       "\n",
       "    .dataframe tbody tr th {\n",
       "        vertical-align: top;\n",
       "    }\n",
       "\n",
       "    .dataframe thead th {\n",
       "        text-align: right;\n",
       "    }\n",
       "</style>\n",
       "<table border=\"1\" class=\"dataframe\">\n",
       "  <thead>\n",
       "    <tr style=\"text-align: right;\">\n",
       "      <th></th>\n",
       "      <th>production_field</th>\n",
       "      <th>CO2_tons_per_MWh</th>\n",
       "    </tr>\n",
       "  </thead>\n",
       "  <tbody>\n",
       "    <tr>\n",
       "      <th>0</th>\n",
       "      <td>BIOMASS</td>\n",
       "      <td>0.988</td>\n",
       "    </tr>\n",
       "    <tr>\n",
       "      <th>1</th>\n",
       "      <td>FOSSIL_GAS</td>\n",
       "      <td>0.474</td>\n",
       "    </tr>\n",
       "    <tr>\n",
       "      <th>2</th>\n",
       "      <td>FOSSIL_HARD_COAL</td>\n",
       "      <td>0.986</td>\n",
       "    </tr>\n",
       "    <tr>\n",
       "      <th>3</th>\n",
       "      <td>FOSSIL_OIL</td>\n",
       "      <td>0.777</td>\n",
       "    </tr>\n",
       "    <tr>\n",
       "      <th>4</th>\n",
       "      <td>HYDRO_PUMPED_STORAGE</td>\n",
       "      <td>0.000</td>\n",
       "    </tr>\n",
       "  </tbody>\n",
       "</table>\n",
       "</div>"
      ],
      "text/plain": [
       "       production_field  CO2_tons_per_MWh\n",
       "0               BIOMASS             0.988\n",
       "1            FOSSIL_GAS             0.474\n",
       "2      FOSSIL_HARD_COAL             0.986\n",
       "3            FOSSIL_OIL             0.777\n",
       "4  HYDRO_PUMPED_STORAGE             0.000"
      ]
     },
     "execution_count": 3,
     "metadata": {},
     "output_type": "execute_result"
    }
   ],
   "source": [
    "df_production_fields = pd.read_csv('C:/ProgramData/MySQL/MySQL Server 8.0/Uploads/CertificationData/production_fields.csv')\n",
    "df_production_fields.head()"
   ]
  },
  {
   "cell_type": "code",
   "execution_count": 4,
   "metadata": {},
   "outputs": [
    {
     "data": {
      "text/html": [
       "<div>\n",
       "<style scoped>\n",
       "    .dataframe tbody tr th:only-of-type {\n",
       "        vertical-align: middle;\n",
       "    }\n",
       "\n",
       "    .dataframe tbody tr th {\n",
       "        vertical-align: top;\n",
       "    }\n",
       "\n",
       "    .dataframe thead th {\n",
       "        text-align: right;\n",
       "    }\n",
       "</style>\n",
       "<table border=\"1\" class=\"dataframe\">\n",
       "  <thead>\n",
       "    <tr style=\"text-align: right;\">\n",
       "      <th></th>\n",
       "      <th>timeslot</th>\n",
       "      <th>production_field</th>\n",
       "      <th>production</th>\n",
       "    </tr>\n",
       "  </thead>\n",
       "  <tbody>\n",
       "    <tr>\n",
       "      <th>0</th>\n",
       "      <td>2019-02-10T00:00:00</td>\n",
       "      <td>BIOMASS</td>\n",
       "      <td>348</td>\n",
       "    </tr>\n",
       "    <tr>\n",
       "      <th>1</th>\n",
       "      <td>2019-02-10T01:00:00</td>\n",
       "      <td>BIOMASS</td>\n",
       "      <td>347</td>\n",
       "    </tr>\n",
       "    <tr>\n",
       "      <th>2</th>\n",
       "      <td>2019-02-10T02:00:00</td>\n",
       "      <td>BIOMASS</td>\n",
       "      <td>347</td>\n",
       "    </tr>\n",
       "    <tr>\n",
       "      <th>3</th>\n",
       "      <td>2019-02-10T03:00:00</td>\n",
       "      <td>BIOMASS</td>\n",
       "      <td>347</td>\n",
       "    </tr>\n",
       "    <tr>\n",
       "      <th>4</th>\n",
       "      <td>2019-02-10T04:00:00</td>\n",
       "      <td>BIOMASS</td>\n",
       "      <td>347</td>\n",
       "    </tr>\n",
       "  </tbody>\n",
       "</table>\n",
       "</div>"
      ],
      "text/plain": [
       "              timeslot production_field  production\n",
       "0  2019-02-10T00:00:00          BIOMASS         348\n",
       "1  2019-02-10T01:00:00          BIOMASS         347\n",
       "2  2019-02-10T02:00:00          BIOMASS         347\n",
       "3  2019-02-10T03:00:00          BIOMASS         347\n",
       "4  2019-02-10T04:00:00          BIOMASS         347"
      ]
     },
     "execution_count": 4,
     "metadata": {},
     "output_type": "execute_result"
    }
   ],
   "source": [
    "df_productions = pd.read_csv('C:/ProgramData/MySQL/MySQL Server 8.0/Uploads/CertificationData/productions.csv')\n",
    "df_productions.head()"
   ]
  },
  {
   "cell_type": "code",
   "execution_count": 5,
   "metadata": {},
   "outputs": [
    {
     "data": {
      "text/html": [
       "<div>\n",
       "<style scoped>\n",
       "    .dataframe tbody tr th:only-of-type {\n",
       "        vertical-align: middle;\n",
       "    }\n",
       "\n",
       "    .dataframe tbody tr th {\n",
       "        vertical-align: top;\n",
       "    }\n",
       "\n",
       "    .dataframe thead th {\n",
       "        text-align: right;\n",
       "    }\n",
       "</style>\n",
       "<table border=\"1\" class=\"dataframe\">\n",
       "  <thead>\n",
       "    <tr style=\"text-align: right;\">\n",
       "      <th></th>\n",
       "      <th>user_id</th>\n",
       "      <th>lastname</th>\n",
       "      <th>firstname</th>\n",
       "      <th>mail</th>\n",
       "      <th>password</th>\n",
       "      <th>number_people</th>\n",
       "    </tr>\n",
       "  </thead>\n",
       "  <tbody>\n",
       "    <tr>\n",
       "      <th>0</th>\n",
       "      <td>116</td>\n",
       "      <td>PEPIN-NEANG</td>\n",
       "      <td>Caroline</td>\n",
       "      <td>caroline.neang@gmail.com</td>\n",
       "      <td>mon_motdepasse</td>\n",
       "      <td>2</td>\n",
       "    </tr>\n",
       "  </tbody>\n",
       "</table>\n",
       "</div>"
      ],
      "text/plain": [
       "   user_id     lastname firstname                      mail        password  \\\n",
       "0      116  PEPIN-NEANG  Caroline  caroline.neang@gmail.com  mon_motdepasse   \n",
       "\n",
       "   number_people  \n",
       "0              2  "
      ]
     },
     "execution_count": 5,
     "metadata": {},
     "output_type": "execute_result"
    }
   ],
   "source": [
    "df_users = pd.read_csv('C:/ProgramData/MySQL/MySQL Server 8.0/Uploads/CertificationData/users_DB.csv', header=None)\n",
    "df_users.columns = ['user_id', 'lastname','firstname','mail','password', 'number_people']\n",
    "df_users"
   ]
  },
  {
   "cell_type": "code",
   "execution_count": 6,
   "metadata": {},
   "outputs": [
    {
     "data": {
      "text/html": [
       "<div>\n",
       "<style scoped>\n",
       "    .dataframe tbody tr th:only-of-type {\n",
       "        vertical-align: middle;\n",
       "    }\n",
       "\n",
       "    .dataframe tbody tr th {\n",
       "        vertical-align: top;\n",
       "    }\n",
       "\n",
       "    .dataframe thead th {\n",
       "        text-align: right;\n",
       "    }\n",
       "</style>\n",
       "<table border=\"1\" class=\"dataframe\">\n",
       "  <thead>\n",
       "    <tr style=\"text-align: right;\">\n",
       "      <th></th>\n",
       "      <th>timeslot</th>\n",
       "      <th>user_id</th>\n",
       "      <th>consumption</th>\n",
       "      <th>carbon_footprint</th>\n",
       "    </tr>\n",
       "  </thead>\n",
       "  <tbody>\n",
       "    <tr>\n",
       "      <th>0</th>\n",
       "      <td>2019-02-10 00:00:00</td>\n",
       "      <td>116</td>\n",
       "      <td>68</td>\n",
       "      <td>2.400</td>\n",
       "    </tr>\n",
       "    <tr>\n",
       "      <th>1</th>\n",
       "      <td>2019-02-10 01:00:00</td>\n",
       "      <td>116</td>\n",
       "      <td>127</td>\n",
       "      <td>4.461</td>\n",
       "    </tr>\n",
       "    <tr>\n",
       "      <th>2</th>\n",
       "      <td>2019-02-10 02:00:00</td>\n",
       "      <td>116</td>\n",
       "      <td>50</td>\n",
       "      <td>1.788</td>\n",
       "    </tr>\n",
       "    <tr>\n",
       "      <th>3</th>\n",
       "      <td>2019-02-10 03:00:00</td>\n",
       "      <td>116</td>\n",
       "      <td>214</td>\n",
       "      <td>7.858</td>\n",
       "    </tr>\n",
       "    <tr>\n",
       "      <th>4</th>\n",
       "      <td>2019-02-10 04:00:00</td>\n",
       "      <td>116</td>\n",
       "      <td>119</td>\n",
       "      <td>4.443</td>\n",
       "    </tr>\n",
       "  </tbody>\n",
       "</table>\n",
       "</div>"
      ],
      "text/plain": [
       "              timeslot  user_id  consumption  carbon_footprint\n",
       "0  2019-02-10 00:00:00      116           68             2.400\n",
       "1  2019-02-10 01:00:00      116          127             4.461\n",
       "2  2019-02-10 02:00:00      116           50             1.788\n",
       "3  2019-02-10 03:00:00      116          214             7.858\n",
       "4  2019-02-10 04:00:00      116          119             4.443"
      ]
     },
     "execution_count": 6,
     "metadata": {},
     "output_type": "execute_result"
    }
   ],
   "source": [
    "df_consumptions = pd.read_csv('C:/ProgramData/MySQL/MySQL Server 8.0/Uploads/CertificationData/consumptions_fullDB.csv', header=None)\n",
    "df_consumptions.columns = ['timeslot','user_id','consumption','carbon_footprint']\n",
    "df_consumptions.head()"
   ]
  },
  {
   "cell_type": "code",
   "execution_count": 7,
   "metadata": {},
   "outputs": [],
   "source": [
    "# Sauvegarde\n",
    "df_consumptions.to_csv('C:/Caroline/Pro Caro/DEVELOPPEUR/Projet certif Simplon 2019/Final/output/consumptions_fullDB.csv', index=False)"
   ]
  },
  {
   "cell_type": "markdown",
   "metadata": {},
   "source": [
    "<h2>II- Analyses production</h2>"
   ]
  },
  {
   "cell_type": "code",
   "execution_count": 8,
   "metadata": {
    "scrolled": true
   },
   "outputs": [],
   "source": [
    "# Sous-ensemble du dataframe df_productions pour une date choisie et sans le stokage (car cette valeur peut être négative)\n",
    "select_date = \"2019-05-10T14:00:00\"\n",
    "subset_df_productions=df_productions.loc[(df_productions['timeslot']== select_date) & (df_productions['production']>= 0)]"
   ]
  },
  {
   "cell_type": "code",
   "execution_count": 9,
   "metadata": {},
   "outputs": [
    {
     "data": {
      "image/png": "[encoded data removed]",
      "text/plain": [
       "<Figure size 576x576 with 1 Axes>"
      ]
     },
     "metadata": {},
     "output_type": "display_data"
    }
   ],
   "source": [
    "# Le camembert\n",
    "productions_plot = subset_df_productions.plot.pie(y='production'\n",
    "                                      ,figsize=(8, 8)\n",
    "                                      ,labels=subset_df_productions['production_field']\n",
    "                                      ,autopct='%1.1f%%'\n",
    "                                      ,rotatelabels=True\n",
    "                                      ,legend=False\n",
    "                                      ,title= \"Production\")"
   ]
  },
  {
   "cell_type": "code",
   "execution_count": 11,
   "metadata": {},
   "outputs": [
    {
     "data": {
      "image/png": "[encoded data removed]",
      "text/plain": [
       "<Figure size 576x576 with 1 Axes>"
      ]
     },
     "metadata": {},
     "output_type": "display_data"
    }
   ],
   "source": [
    "# Avec une autre date\n",
    "\n",
    "select_date = \"2019-06-14T14:00:00\"\n",
    "\n",
    "subset_df_productions = df_productions.loc[(df_productions['timeslot']== select_date) & (df_productions['production']>= 0)]\n",
    "\n",
    "productions_plot = subset_df_productions.plot.pie(y='production'\n",
    "                                      ,figsize=(8, 8)\n",
    "                                      ,labels=subset_df_productions['production_field']\n",
    "                                      ,autopct='%1.1f%%'\n",
    "                                      ,rotatelabels=True\n",
    "                                      ,legend=False\n",
    "                                  )\n",
    "cam= productions_plot.get_figure() \n",
    "cam.savefig(\"C:/Caroline/Pro Caro/DEVELOPPEUR/Projet certif Simplon 2019/Final/output/cam.png\")"
   ]
  },
  {
   "cell_type": "markdown",
   "metadata": {},
   "source": [
    "<h2>III- Analyses de consommation pour un utilisateur donné</h2>"
   ]
  },
  {
   "cell_type": "markdown",
   "metadata": {},
   "source": [
    "<h3>A) Travail préparatoire</h3>"
   ]
  },
  {
   "cell_type": "code",
   "execution_count": 12,
   "metadata": {},
   "outputs": [
    {
     "data": {
      "text/html": [
       "<div>\n",
       "<style scoped>\n",
       "    .dataframe tbody tr th:only-of-type {\n",
       "        vertical-align: middle;\n",
       "    }\n",
       "\n",
       "    .dataframe tbody tr th {\n",
       "        vertical-align: top;\n",
       "    }\n",
       "\n",
       "    .dataframe thead th {\n",
       "        text-align: right;\n",
       "    }\n",
       "</style>\n",
       "<table border=\"1\" class=\"dataframe\">\n",
       "  <thead>\n",
       "    <tr style=\"text-align: right;\">\n",
       "      <th></th>\n",
       "      <th>timeslot</th>\n",
       "      <th>user_id</th>\n",
       "      <th>consumption</th>\n",
       "      <th>carbon_footprint</th>\n",
       "    </tr>\n",
       "  </thead>\n",
       "  <tbody>\n",
       "    <tr>\n",
       "      <th>0</th>\n",
       "      <td>2019-02-10 00:00:00</td>\n",
       "      <td>116</td>\n",
       "      <td>68</td>\n",
       "      <td>2.400</td>\n",
       "    </tr>\n",
       "    <tr>\n",
       "      <th>1</th>\n",
       "      <td>2019-02-10 01:00:00</td>\n",
       "      <td>116</td>\n",
       "      <td>127</td>\n",
       "      <td>4.461</td>\n",
       "    </tr>\n",
       "    <tr>\n",
       "      <th>2</th>\n",
       "      <td>2019-02-10 02:00:00</td>\n",
       "      <td>116</td>\n",
       "      <td>50</td>\n",
       "      <td>1.788</td>\n",
       "    </tr>\n",
       "    <tr>\n",
       "      <th>3</th>\n",
       "      <td>2019-02-10 03:00:00</td>\n",
       "      <td>116</td>\n",
       "      <td>214</td>\n",
       "      <td>7.858</td>\n",
       "    </tr>\n",
       "    <tr>\n",
       "      <th>4</th>\n",
       "      <td>2019-02-10 04:00:00</td>\n",
       "      <td>116</td>\n",
       "      <td>119</td>\n",
       "      <td>4.443</td>\n",
       "    </tr>\n",
       "  </tbody>\n",
       "</table>\n",
       "</div>"
      ],
      "text/plain": [
       "              timeslot  user_id  consumption  carbon_footprint\n",
       "0  2019-02-10 00:00:00      116           68             2.400\n",
       "1  2019-02-10 01:00:00      116          127             4.461\n",
       "2  2019-02-10 02:00:00      116           50             1.788\n",
       "3  2019-02-10 03:00:00      116          214             7.858\n",
       "4  2019-02-10 04:00:00      116          119             4.443"
      ]
     },
     "execution_count": 12,
     "metadata": {},
     "output_type": "execute_result"
    }
   ],
   "source": [
    "df_consumptions.head()"
   ]
  },
  {
   "cell_type": "code",
   "execution_count": 13,
   "metadata": {},
   "outputs": [
    {
     "data": {
      "text/plain": [
       "timeslot             object\n",
       "user_id               int64\n",
       "consumption           int64\n",
       "carbon_footprint    float64\n",
       "dtype: object"
      ]
     },
     "execution_count": 13,
     "metadata": {},
     "output_type": "execute_result"
    }
   ],
   "source": [
    "# Je vérifie le types des colonnes du dataframe\n",
    "df_consumptions.dtypes"
   ]
  },
  {
   "cell_type": "code",
   "execution_count": 14,
   "metadata": {},
   "outputs": [
    {
     "data": {
      "text/plain": [
       "timeslot            datetime64[ns]\n",
       "user_id                      int64\n",
       "consumption                  int64\n",
       "carbon_footprint           float64\n",
       "dtype: object"
      ]
     },
     "execution_count": 14,
     "metadata": {},
     "output_type": "execute_result"
    }
   ],
   "source": [
    "# changer en DATETIME la colonne 'timeslot'\n",
    "df_consumptions['timeslot'] = pd.to_datetime(df_consumptions['timeslot'])\n",
    "df_consumptions.dtypes"
   ]
  },
  {
   "cell_type": "code",
   "execution_count": 15,
   "metadata": {},
   "outputs": [
    {
     "data": {
      "text/html": [
       "<div>\n",
       "<style scoped>\n",
       "    .dataframe tbody tr th:only-of-type {\n",
       "        vertical-align: middle;\n",
       "    }\n",
       "\n",
       "    .dataframe tbody tr th {\n",
       "        vertical-align: top;\n",
       "    }\n",
       "\n",
       "    .dataframe thead th {\n",
       "        text-align: right;\n",
       "    }\n",
       "</style>\n",
       "<table border=\"1\" class=\"dataframe\">\n",
       "  <thead>\n",
       "    <tr style=\"text-align: right;\">\n",
       "      <th></th>\n",
       "      <th>timeslot</th>\n",
       "      <th>user_id</th>\n",
       "      <th>consumption</th>\n",
       "      <th>carbon_footprint</th>\n",
       "      <th>lastname</th>\n",
       "      <th>firstname</th>\n",
       "      <th>mail</th>\n",
       "      <th>password</th>\n",
       "      <th>number_people</th>\n",
       "    </tr>\n",
       "  </thead>\n",
       "  <tbody>\n",
       "    <tr>\n",
       "      <th>0</th>\n",
       "      <td>2019-02-10 00:00:00</td>\n",
       "      <td>116</td>\n",
       "      <td>68</td>\n",
       "      <td>2.400</td>\n",
       "      <td>PEPIN-NEANG</td>\n",
       "      <td>Caroline</td>\n",
       "      <td>caroline.neang@gmail.com</td>\n",
       "      <td>mon_motdepasse</td>\n",
       "      <td>2</td>\n",
       "    </tr>\n",
       "    <tr>\n",
       "      <th>1</th>\n",
       "      <td>2019-02-10 01:00:00</td>\n",
       "      <td>116</td>\n",
       "      <td>127</td>\n",
       "      <td>4.461</td>\n",
       "      <td>PEPIN-NEANG</td>\n",
       "      <td>Caroline</td>\n",
       "      <td>caroline.neang@gmail.com</td>\n",
       "      <td>mon_motdepasse</td>\n",
       "      <td>2</td>\n",
       "    </tr>\n",
       "    <tr>\n",
       "      <th>2</th>\n",
       "      <td>2019-02-10 02:00:00</td>\n",
       "      <td>116</td>\n",
       "      <td>50</td>\n",
       "      <td>1.788</td>\n",
       "      <td>PEPIN-NEANG</td>\n",
       "      <td>Caroline</td>\n",
       "      <td>caroline.neang@gmail.com</td>\n",
       "      <td>mon_motdepasse</td>\n",
       "      <td>2</td>\n",
       "    </tr>\n",
       "    <tr>\n",
       "      <th>3</th>\n",
       "      <td>2019-02-10 03:00:00</td>\n",
       "      <td>116</td>\n",
       "      <td>214</td>\n",
       "      <td>7.858</td>\n",
       "      <td>PEPIN-NEANG</td>\n",
       "      <td>Caroline</td>\n",
       "      <td>caroline.neang@gmail.com</td>\n",
       "      <td>mon_motdepasse</td>\n",
       "      <td>2</td>\n",
       "    </tr>\n",
       "    <tr>\n",
       "      <th>4</th>\n",
       "      <td>2019-02-10 04:00:00</td>\n",
       "      <td>116</td>\n",
       "      <td>119</td>\n",
       "      <td>4.443</td>\n",
       "      <td>PEPIN-NEANG</td>\n",
       "      <td>Caroline</td>\n",
       "      <td>caroline.neang@gmail.com</td>\n",
       "      <td>mon_motdepasse</td>\n",
       "      <td>2</td>\n",
       "    </tr>\n",
       "  </tbody>\n",
       "</table>\n",
       "</div>"
      ],
      "text/plain": [
       "             timeslot  user_id  consumption  carbon_footprint     lastname  \\\n",
       "0 2019-02-10 00:00:00      116           68             2.400  PEPIN-NEANG   \n",
       "1 2019-02-10 01:00:00      116          127             4.461  PEPIN-NEANG   \n",
       "2 2019-02-10 02:00:00      116           50             1.788  PEPIN-NEANG   \n",
       "3 2019-02-10 03:00:00      116          214             7.858  PEPIN-NEANG   \n",
       "4 2019-02-10 04:00:00      116          119             4.443  PEPIN-NEANG   \n",
       "\n",
       "  firstname                      mail        password  number_people  \n",
       "0  Caroline  caroline.neang@gmail.com  mon_motdepasse              2  \n",
       "1  Caroline  caroline.neang@gmail.com  mon_motdepasse              2  \n",
       "2  Caroline  caroline.neang@gmail.com  mon_motdepasse              2  \n",
       "3  Caroline  caroline.neang@gmail.com  mon_motdepasse              2  \n",
       "4  Caroline  caroline.neang@gmail.com  mon_motdepasse              2  "
      ]
     },
     "execution_count": 15,
     "metadata": {},
     "output_type": "execute_result"
    }
   ],
   "source": [
    "# Je merge les tables df_consumptions et df_users (même colonne user_id)\n",
    "df_consumptions_users = pd.merge(df_consumptions, df_users)\n",
    "df_consumptions_users.head()"
   ]
  },
  {
   "cell_type": "code",
   "execution_count": 16,
   "metadata": {},
   "outputs": [],
   "source": [
    "# Choix de l'user\n",
    "select_user = 116"
   ]
  },
  {
   "cell_type": "code",
   "execution_count": 17,
   "metadata": {},
   "outputs": [
    {
     "data": {
      "text/html": [
       "<div>\n",
       "<style scoped>\n",
       "    .dataframe tbody tr th:only-of-type {\n",
       "        vertical-align: middle;\n",
       "    }\n",
       "\n",
       "    .dataframe tbody tr th {\n",
       "        vertical-align: top;\n",
       "    }\n",
       "\n",
       "    .dataframe thead th {\n",
       "        text-align: right;\n",
       "    }\n",
       "</style>\n",
       "<table border=\"1\" class=\"dataframe\">\n",
       "  <thead>\n",
       "    <tr style=\"text-align: right;\">\n",
       "      <th></th>\n",
       "      <th>timeslot</th>\n",
       "      <th>user_id</th>\n",
       "      <th>consumption</th>\n",
       "      <th>carbon_footprint</th>\n",
       "      <th>lastname</th>\n",
       "      <th>firstname</th>\n",
       "      <th>mail</th>\n",
       "      <th>password</th>\n",
       "      <th>number_people</th>\n",
       "    </tr>\n",
       "  </thead>\n",
       "  <tbody>\n",
       "    <tr>\n",
       "      <th>0</th>\n",
       "      <td>2019-02-10 00:00:00</td>\n",
       "      <td>116</td>\n",
       "      <td>68</td>\n",
       "      <td>2.400</td>\n",
       "      <td>PEPIN-NEANG</td>\n",
       "      <td>Caroline</td>\n",
       "      <td>caroline.neang@gmail.com</td>\n",
       "      <td>mon_motdepasse</td>\n",
       "      <td>2</td>\n",
       "    </tr>\n",
       "    <tr>\n",
       "      <th>1</th>\n",
       "      <td>2019-02-10 01:00:00</td>\n",
       "      <td>116</td>\n",
       "      <td>127</td>\n",
       "      <td>4.461</td>\n",
       "      <td>PEPIN-NEANG</td>\n",
       "      <td>Caroline</td>\n",
       "      <td>caroline.neang@gmail.com</td>\n",
       "      <td>mon_motdepasse</td>\n",
       "      <td>2</td>\n",
       "    </tr>\n",
       "    <tr>\n",
       "      <th>2</th>\n",
       "      <td>2019-02-10 02:00:00</td>\n",
       "      <td>116</td>\n",
       "      <td>50</td>\n",
       "      <td>1.788</td>\n",
       "      <td>PEPIN-NEANG</td>\n",
       "      <td>Caroline</td>\n",
       "      <td>caroline.neang@gmail.com</td>\n",
       "      <td>mon_motdepasse</td>\n",
       "      <td>2</td>\n",
       "    </tr>\n",
       "    <tr>\n",
       "      <th>3</th>\n",
       "      <td>2019-02-10 03:00:00</td>\n",
       "      <td>116</td>\n",
       "      <td>214</td>\n",
       "      <td>7.858</td>\n",
       "      <td>PEPIN-NEANG</td>\n",
       "      <td>Caroline</td>\n",
       "      <td>caroline.neang@gmail.com</td>\n",
       "      <td>mon_motdepasse</td>\n",
       "      <td>2</td>\n",
       "    </tr>\n",
       "    <tr>\n",
       "      <th>4</th>\n",
       "      <td>2019-02-10 04:00:00</td>\n",
       "      <td>116</td>\n",
       "      <td>119</td>\n",
       "      <td>4.443</td>\n",
       "      <td>PEPIN-NEANG</td>\n",
       "      <td>Caroline</td>\n",
       "      <td>caroline.neang@gmail.com</td>\n",
       "      <td>mon_motdepasse</td>\n",
       "      <td>2</td>\n",
       "    </tr>\n",
       "  </tbody>\n",
       "</table>\n",
       "</div>"
      ],
      "text/plain": [
       "             timeslot  user_id  consumption  carbon_footprint     lastname  \\\n",
       "0 2019-02-10 00:00:00      116           68             2.400  PEPIN-NEANG   \n",
       "1 2019-02-10 01:00:00      116          127             4.461  PEPIN-NEANG   \n",
       "2 2019-02-10 02:00:00      116           50             1.788  PEPIN-NEANG   \n",
       "3 2019-02-10 03:00:00      116          214             7.858  PEPIN-NEANG   \n",
       "4 2019-02-10 04:00:00      116          119             4.443  PEPIN-NEANG   \n",
       "\n",
       "  firstname                      mail        password  number_people  \n",
       "0  Caroline  caroline.neang@gmail.com  mon_motdepasse              2  \n",
       "1  Caroline  caroline.neang@gmail.com  mon_motdepasse              2  \n",
       "2  Caroline  caroline.neang@gmail.com  mon_motdepasse              2  \n",
       "3  Caroline  caroline.neang@gmail.com  mon_motdepasse              2  \n",
       "4  Caroline  caroline.neang@gmail.com  mon_motdepasse              2  "
      ]
     },
     "execution_count": 17,
     "metadata": {},
     "output_type": "execute_result"
    }
   ],
   "source": [
    "# Sous-ensemble du dataframe df_consumptions pour un utilisateur choisi\n",
    "\n",
    "subset_df_consumptions_users = df_consumptions_users.loc[(df_consumptions['user_id']== select_user)]\n",
    "subset_df_consumptions_users.head()"
   ]
  },
  {
   "cell_type": "markdown",
   "metadata": {},
   "source": [
    "<h3> B) Graphiques consommation par mois</h3>"
   ]
  },
  {
   "cell_type": "code",
   "execution_count": 18,
   "metadata": {},
   "outputs": [
    {
     "data": {
      "text/html": [
       "<div>\n",
       "<style scoped>\n",
       "    .dataframe tbody tr th:only-of-type {\n",
       "        vertical-align: middle;\n",
       "    }\n",
       "\n",
       "    .dataframe tbody tr th {\n",
       "        vertical-align: top;\n",
       "    }\n",
       "\n",
       "    .dataframe thead th {\n",
       "        text-align: right;\n",
       "    }\n",
       "</style>\n",
       "<table border=\"1\" class=\"dataframe\">\n",
       "  <thead>\n",
       "    <tr style=\"text-align: right;\">\n",
       "      <th></th>\n",
       "      <th>timeslot</th>\n",
       "      <th>consumption</th>\n",
       "      <th>carbon_footprint</th>\n",
       "    </tr>\n",
       "  </thead>\n",
       "  <tbody>\n",
       "    <tr>\n",
       "      <th>0</th>\n",
       "      <td>2019-02-10 00:00:00</td>\n",
       "      <td>68</td>\n",
       "      <td>2.400</td>\n",
       "    </tr>\n",
       "    <tr>\n",
       "      <th>1</th>\n",
       "      <td>2019-02-10 01:00:00</td>\n",
       "      <td>127</td>\n",
       "      <td>4.461</td>\n",
       "    </tr>\n",
       "    <tr>\n",
       "      <th>2</th>\n",
       "      <td>2019-02-10 02:00:00</td>\n",
       "      <td>50</td>\n",
       "      <td>1.788</td>\n",
       "    </tr>\n",
       "    <tr>\n",
       "      <th>3</th>\n",
       "      <td>2019-02-10 03:00:00</td>\n",
       "      <td>214</td>\n",
       "      <td>7.858</td>\n",
       "    </tr>\n",
       "    <tr>\n",
       "      <th>4</th>\n",
       "      <td>2019-02-10 04:00:00</td>\n",
       "      <td>119</td>\n",
       "      <td>4.443</td>\n",
       "    </tr>\n",
       "  </tbody>\n",
       "</table>\n",
       "</div>"
      ],
      "text/plain": [
       "             timeslot  consumption  carbon_footprint\n",
       "0 2019-02-10 00:00:00           68             2.400\n",
       "1 2019-02-10 01:00:00          127             4.461\n",
       "2 2019-02-10 02:00:00           50             1.788\n",
       "3 2019-02-10 03:00:00          214             7.858\n",
       "4 2019-02-10 04:00:00          119             4.443"
      ]
     },
     "execution_count": 18,
     "metadata": {},
     "output_type": "execute_result"
    }
   ],
   "source": [
    "# Je réduis le df pour prendre en compte que les colonnes nécessaires 'consumption' et 'carbon_footprint'\n",
    "sub2set_df_consumptions_users = subset_df_consumptions_users[['timeslot','consumption', 'carbon_footprint']]\n",
    "sub2set_df_consumptions_users.head()"
   ]
  },
  {
   "cell_type": "markdown",
   "metadata": {},
   "source": [
    "<h4>1- Consommation par user (foyer)</h4>"
   ]
  },
  {
   "cell_type": "code",
   "execution_count": 19,
   "metadata": {},
   "outputs": [
    {
     "data": {
      "text/html": [
       "<div>\n",
       "<style scoped>\n",
       "    .dataframe tbody tr th:only-of-type {\n",
       "        vertical-align: middle;\n",
       "    }\n",
       "\n",
       "    .dataframe tbody tr th {\n",
       "        vertical-align: top;\n",
       "    }\n",
       "\n",
       "    .dataframe thead th {\n",
       "        text-align: right;\n",
       "    }\n",
       "</style>\n",
       "<table border=\"1\" class=\"dataframe\">\n",
       "  <thead>\n",
       "    <tr style=\"text-align: right;\">\n",
       "      <th></th>\n",
       "      <th>consumption</th>\n",
       "      <th>carbon_footprint</th>\n",
       "    </tr>\n",
       "    <tr>\n",
       "      <th>timeslot</th>\n",
       "      <th></th>\n",
       "      <th></th>\n",
       "    </tr>\n",
       "  </thead>\n",
       "  <tbody>\n",
       "    <tr>\n",
       "      <th>2</th>\n",
       "      <td>194483</td>\n",
       "      <td>11027.904</td>\n",
       "    </tr>\n",
       "    <tr>\n",
       "      <th>3</th>\n",
       "      <td>333202</td>\n",
       "      <td>13237.703</td>\n",
       "    </tr>\n",
       "    <tr>\n",
       "      <th>4</th>\n",
       "      <td>291230</td>\n",
       "      <td>10357.377</td>\n",
       "    </tr>\n",
       "    <tr>\n",
       "      <th>5</th>\n",
       "      <td>259678</td>\n",
       "      <td>8020.902</td>\n",
       "    </tr>\n",
       "    <tr>\n",
       "      <th>6</th>\n",
       "      <td>225934</td>\n",
       "      <td>6834.770</td>\n",
       "    </tr>\n",
       "    <tr>\n",
       "      <th>7</th>\n",
       "      <td>107190</td>\n",
       "      <td>4181.583</td>\n",
       "    </tr>\n",
       "  </tbody>\n",
       "</table>\n",
       "</div>"
      ],
      "text/plain": [
       "          consumption  carbon_footprint\n",
       "timeslot                               \n",
       "2              194483         11027.904\n",
       "3              333202         13237.703\n",
       "4              291230         10357.377\n",
       "5              259678          8020.902\n",
       "6              225934          6834.770\n",
       "7              107190          4181.583"
      ]
     },
     "execution_count": 19,
     "metadata": {},
     "output_type": "execute_result"
    }
   ],
   "source": [
    "# Création d'un dataframe pour un user donné pour chaque mois\n",
    "sub2set_df_consumptions_users_monthly=sub2set_df_consumptions_users.groupby([subset_df_consumptions_users['timeslot'].dt.month]).sum()\n",
    "sub2set_df_consumptions_users_monthly"
   ]
  },
  {
   "cell_type": "code",
   "execution_count": 23,
   "metadata": {},
   "outputs": [
    {
     "data": {
      "image/png": "[encoded data removed]",
      "text/plain": [
       "<Figure size 432x288 with 1 Axes>"
      ]
     },
     "metadata": {
      "needs_background": "light"
     },
     "output_type": "display_data"
    }
   ],
   "source": [
    "# Graphique consommation mensuelle pour un utilisateur donné (foyer)\n",
    "\n",
    "## Data for plotting\n",
    "t = sub2set_df_consumptions_users_monthly.index[1:-1] ### Je prends en compte que les mois pleins, j'enlève Février et Juillet\n",
    "s = sub2set_df_consumptions_users_monthly['consumption'][1:-1] ### Je ne prends en compte que les mois pleins\n",
    "\n",
    "fig, ax = plt.subplots()\n",
    "ax.plot(t, s)\n",
    "\n",
    "ax.set(xlabel='Month', ylabel='Watt',\n",
    "       title='Monthly consumption per household')\n",
    "ax.grid()\n",
    "\n",
    "fig.savefig(\"C:/Caroline/Pro Caro/DEVELOPPEUR/Projet certif Simplon 2019/Final/output/monthly_consumption.png\")\n",
    "plt.show()"
   ]
  },
  {
   "cell_type": "markdown",
   "metadata": {},
   "source": [
    "<h4>2- Consommation par personne pour un user (foyer) donné</h4>"
   ]
  },
  {
   "cell_type": "code",
   "execution_count": 26,
   "metadata": {},
   "outputs": [],
   "source": [
    "#Je cherche l'index de la ligne de l'utilisateur\n",
    "idx=df_users[df_users['user_id']== select_user].index.item()"
   ]
  },
  {
   "cell_type": "code",
   "execution_count": 27,
   "metadata": {},
   "outputs": [
    {
     "data": {
      "text/html": [
       "<div>\n",
       "<style scoped>\n",
       "    .dataframe tbody tr th:only-of-type {\n",
       "        vertical-align: middle;\n",
       "    }\n",
       "\n",
       "    .dataframe tbody tr th {\n",
       "        vertical-align: top;\n",
       "    }\n",
       "\n",
       "    .dataframe thead th {\n",
       "        text-align: right;\n",
       "    }\n",
       "</style>\n",
       "<table border=\"1\" class=\"dataframe\">\n",
       "  <thead>\n",
       "    <tr style=\"text-align: right;\">\n",
       "      <th></th>\n",
       "      <th>consumption</th>\n",
       "      <th>carbon_footprint</th>\n",
       "    </tr>\n",
       "    <tr>\n",
       "      <th>timeslot</th>\n",
       "      <th></th>\n",
       "      <th></th>\n",
       "    </tr>\n",
       "  </thead>\n",
       "  <tbody>\n",
       "    <tr>\n",
       "      <th>2</th>\n",
       "      <td>97241.5</td>\n",
       "      <td>5513.9520</td>\n",
       "    </tr>\n",
       "    <tr>\n",
       "      <th>3</th>\n",
       "      <td>166601.0</td>\n",
       "      <td>6618.8515</td>\n",
       "    </tr>\n",
       "    <tr>\n",
       "      <th>4</th>\n",
       "      <td>145615.0</td>\n",
       "      <td>5178.6885</td>\n",
       "    </tr>\n",
       "    <tr>\n",
       "      <th>5</th>\n",
       "      <td>129839.0</td>\n",
       "      <td>4010.4510</td>\n",
       "    </tr>\n",
       "    <tr>\n",
       "      <th>6</th>\n",
       "      <td>112967.0</td>\n",
       "      <td>3417.3850</td>\n",
       "    </tr>\n",
       "    <tr>\n",
       "      <th>7</th>\n",
       "      <td>53595.0</td>\n",
       "      <td>2090.7915</td>\n",
       "    </tr>\n",
       "  </tbody>\n",
       "</table>\n",
       "</div>"
      ],
      "text/plain": [
       "          consumption  carbon_footprint\n",
       "timeslot                               \n",
       "2             97241.5         5513.9520\n",
       "3            166601.0         6618.8515\n",
       "4            145615.0         5178.6885\n",
       "5            129839.0         4010.4510\n",
       "6            112967.0         3417.3850\n",
       "7             53595.0         2090.7915"
      ]
     },
     "execution_count": 27,
     "metadata": {},
     "output_type": "execute_result"
    }
   ],
   "source": [
    "# Création d'un dataframe des consommations et émissions de CO² par personne dans un foyer donné\n",
    "sub2set_df_consumptions_users_monthly_pers = sub2set_df_consumptions_users_monthly / (subset_df_consumptions_users['number_people'][idx])\n",
    "sub2set_df_consumptions_users_monthly_pers"
   ]
  },
  {
   "cell_type": "code",
   "execution_count": 28,
   "metadata": {},
   "outputs": [
    {
     "ename": "FileNotFoundError",
     "evalue": "[Errno 2] No such file or directory: 'C:/Users/x/Documents/Projet simplon/Certification Data/Présentation finale/monthly_consumption_pers.png'",
     "output_type": "error",
     "traceback": [
      "\u001b[1;31m---------------------------------------------------------------------------\u001b[0m",
      "\u001b[1;31mFileNotFoundError\u001b[0m                         Traceback (most recent call last)",
      "\u001b[1;32m<ipython-input-28-99b4136277d2>\u001b[0m in \u001b[0;36m<module>\u001b[1;34m\u001b[0m\n\u001b[0;32m     12\u001b[0m \u001b[0max\u001b[0m\u001b[1;33m.\u001b[0m\u001b[0mgrid\u001b[0m\u001b[1;33m(\u001b[0m\u001b[1;33m)\u001b[0m\u001b[1;33m\u001b[0m\u001b[1;33m\u001b[0m\u001b[0m\n\u001b[0;32m     13\u001b[0m \u001b[1;33m\u001b[0m\u001b[0m\n\u001b[1;32m---> 14\u001b[1;33m \u001b[0mfig\u001b[0m\u001b[1;33m.\u001b[0m\u001b[0msavefig\u001b[0m\u001b[1;33m(\u001b[0m\u001b[1;34m\"C:/Users/x/Documents/Projet simplon/Certification Data/Présentation finale/monthly_consumption_pers.png\"\u001b[0m\u001b[1;33m)\u001b[0m\u001b[1;33m\u001b[0m\u001b[1;33m\u001b[0m\u001b[0m\n\u001b[0m\u001b[0;32m     15\u001b[0m \u001b[0mplt\u001b[0m\u001b[1;33m.\u001b[0m\u001b[0mshow\u001b[0m\u001b[1;33m(\u001b[0m\u001b[1;33m)\u001b[0m\u001b[1;33m\u001b[0m\u001b[1;33m\u001b[0m\u001b[0m\n",
      "\u001b[1;32mC:\\Users\\carol\\OneDrive\\Bureau\\WPy64-3740\\python-3.7.4.amd64\\lib\\site-packages\\matplotlib\\figure.py\u001b[0m in \u001b[0;36msavefig\u001b[1;34m(self, fname, transparent, **kwargs)\u001b[0m\n\u001b[0;32m   2178\u001b[0m             \u001b[0mself\u001b[0m\u001b[1;33m.\u001b[0m\u001b[0mpatch\u001b[0m\u001b[1;33m.\u001b[0m\u001b[0mset_visible\u001b[0m\u001b[1;33m(\u001b[0m\u001b[0mframeon\u001b[0m\u001b[1;33m)\u001b[0m\u001b[1;33m\u001b[0m\u001b[1;33m\u001b[0m\u001b[0m\n\u001b[0;32m   2179\u001b[0m \u001b[1;33m\u001b[0m\u001b[0m\n\u001b[1;32m-> 2180\u001b[1;33m         \u001b[0mself\u001b[0m\u001b[1;33m.\u001b[0m\u001b[0mcanvas\u001b[0m\u001b[1;33m.\u001b[0m\u001b[0mprint_figure\u001b[0m\u001b[1;33m(\u001b[0m\u001b[0mfname\u001b[0m\u001b[1;33m,\u001b[0m \u001b[1;33m**\u001b[0m\u001b[0mkwargs\u001b[0m\u001b[1;33m)\u001b[0m\u001b[1;33m\u001b[0m\u001b[1;33m\u001b[0m\u001b[0m\n\u001b[0m\u001b[0;32m   2181\u001b[0m \u001b[1;33m\u001b[0m\u001b[0m\n\u001b[0;32m   2182\u001b[0m         \u001b[1;32mif\u001b[0m \u001b[0mframeon\u001b[0m\u001b[1;33m:\u001b[0m\u001b[1;33m\u001b[0m\u001b[1;33m\u001b[0m\u001b[0m\n",
      "\u001b[1;32mC:\\Users\\carol\\OneDrive\\Bureau\\WPy64-3740\\python-3.7.4.amd64\\lib\\site-packages\\matplotlib\\backend_bases.py\u001b[0m in \u001b[0;36mprint_figure\u001b[1;34m(self, filename, dpi, facecolor, edgecolor, orientation, format, bbox_inches, **kwargs)\u001b[0m\n\u001b[0;32m   2080\u001b[0m                     \u001b[0morientation\u001b[0m\u001b[1;33m=\u001b[0m\u001b[0morientation\u001b[0m\u001b[1;33m,\u001b[0m\u001b[1;33m\u001b[0m\u001b[1;33m\u001b[0m\u001b[0m\n\u001b[0;32m   2081\u001b[0m                     \u001b[0mbbox_inches_restore\u001b[0m\u001b[1;33m=\u001b[0m\u001b[0m_bbox_inches_restore\u001b[0m\u001b[1;33m,\u001b[0m\u001b[1;33m\u001b[0m\u001b[1;33m\u001b[0m\u001b[0m\n\u001b[1;32m-> 2082\u001b[1;33m                     **kwargs)\n\u001b[0m\u001b[0;32m   2083\u001b[0m             \u001b[1;32mfinally\u001b[0m\u001b[1;33m:\u001b[0m\u001b[1;33m\u001b[0m\u001b[1;33m\u001b[0m\u001b[0m\n\u001b[0;32m   2084\u001b[0m                 \u001b[1;32mif\u001b[0m \u001b[0mbbox_inches\u001b[0m \u001b[1;32mand\u001b[0m \u001b[0mrestore_bbox\u001b[0m\u001b[1;33m:\u001b[0m\u001b[1;33m\u001b[0m\u001b[1;33m\u001b[0m\u001b[0m\n",
      "\u001b[1;32mC:\\Users\\carol\\OneDrive\\Bureau\\WPy64-3740\\python-3.7.4.amd64\\lib\\site-packages\\matplotlib\\backends\\backend_agg.py\u001b[0m in \u001b[0;36mprint_png\u001b[1;34m(self, filename_or_obj, metadata, pil_kwargs, *args, **kwargs)\u001b[0m\n\u001b[0;32m    528\u001b[0m             \u001b[0mrenderer\u001b[0m \u001b[1;33m=\u001b[0m \u001b[0mself\u001b[0m\u001b[1;33m.\u001b[0m\u001b[0mget_renderer\u001b[0m\u001b[1;33m(\u001b[0m\u001b[1;33m)\u001b[0m\u001b[1;33m\u001b[0m\u001b[1;33m\u001b[0m\u001b[0m\n\u001b[0;32m    529\u001b[0m             \u001b[1;32mwith\u001b[0m \u001b[0mcbook\u001b[0m\u001b[1;33m.\u001b[0m\u001b[0m_setattr_cm\u001b[0m\u001b[1;33m(\u001b[0m\u001b[0mrenderer\u001b[0m\u001b[1;33m,\u001b[0m \u001b[0mdpi\u001b[0m\u001b[1;33m=\u001b[0m\u001b[0mself\u001b[0m\u001b[1;33m.\u001b[0m\u001b[0mfigure\u001b[0m\u001b[1;33m.\u001b[0m\u001b[0mdpi\u001b[0m\u001b[1;33m)\u001b[0m\u001b[1;33m,\u001b[0m\u001b[0;31m \u001b[0m\u001b[0;31m\\\u001b[0m\u001b[1;33m\u001b[0m\u001b[1;33m\u001b[0m\u001b[0m\n\u001b[1;32m--> 530\u001b[1;33m                     \u001b[0mcbook\u001b[0m\u001b[1;33m.\u001b[0m\u001b[0mopen_file_cm\u001b[0m\u001b[1;33m(\u001b[0m\u001b[0mfilename_or_obj\u001b[0m\u001b[1;33m,\u001b[0m \u001b[1;34m\"wb\"\u001b[0m\u001b[1;33m)\u001b[0m \u001b[1;32mas\u001b[0m \u001b[0mfh\u001b[0m\u001b[1;33m:\u001b[0m\u001b[1;33m\u001b[0m\u001b[1;33m\u001b[0m\u001b[0m\n\u001b[0m\u001b[0;32m    531\u001b[0m                 _png.write_png(renderer._renderer, fh,\n\u001b[0;32m    532\u001b[0m                                self.figure.dpi, metadata=metadata)\n",
      "\u001b[1;32mC:\\Users\\carol\\OneDrive\\Bureau\\WPy64-3740\\python-3.7.4.amd64\\lib\\contextlib.py\u001b[0m in \u001b[0;36m__enter__\u001b[1;34m(self)\u001b[0m\n\u001b[0;32m    110\u001b[0m         \u001b[1;32mdel\u001b[0m \u001b[0mself\u001b[0m\u001b[1;33m.\u001b[0m\u001b[0margs\u001b[0m\u001b[1;33m,\u001b[0m \u001b[0mself\u001b[0m\u001b[1;33m.\u001b[0m\u001b[0mkwds\u001b[0m\u001b[1;33m,\u001b[0m \u001b[0mself\u001b[0m\u001b[1;33m.\u001b[0m\u001b[0mfunc\u001b[0m\u001b[1;33m\u001b[0m\u001b[1;33m\u001b[0m\u001b[0m\n\u001b[0;32m    111\u001b[0m         \u001b[1;32mtry\u001b[0m\u001b[1;33m:\u001b[0m\u001b[1;33m\u001b[0m\u001b[1;33m\u001b[0m\u001b[0m\n\u001b[1;32m--> 112\u001b[1;33m             \u001b[1;32mreturn\u001b[0m \u001b[0mnext\u001b[0m\u001b[1;33m(\u001b[0m\u001b[0mself\u001b[0m\u001b[1;33m.\u001b[0m\u001b[0mgen\u001b[0m\u001b[1;33m)\u001b[0m\u001b[1;33m\u001b[0m\u001b[1;33m\u001b[0m\u001b[0m\n\u001b[0m\u001b[0;32m    113\u001b[0m         \u001b[1;32mexcept\u001b[0m \u001b[0mStopIteration\u001b[0m\u001b[1;33m:\u001b[0m\u001b[1;33m\u001b[0m\u001b[1;33m\u001b[0m\u001b[0m\n\u001b[0;32m    114\u001b[0m             \u001b[1;32mraise\u001b[0m \u001b[0mRuntimeError\u001b[0m\u001b[1;33m(\u001b[0m\u001b[1;34m\"generator didn't yield\"\u001b[0m\u001b[1;33m)\u001b[0m \u001b[1;32mfrom\u001b[0m \u001b[1;32mNone\u001b[0m\u001b[1;33m\u001b[0m\u001b[1;33m\u001b[0m\u001b[0m\n",
      "\u001b[1;32mC:\\Users\\carol\\OneDrive\\Bureau\\WPy64-3740\\python-3.7.4.amd64\\lib\\site-packages\\matplotlib\\cbook\\__init__.py\u001b[0m in \u001b[0;36mopen_file_cm\u001b[1;34m(path_or_file, mode, encoding)\u001b[0m\n\u001b[0;32m    445\u001b[0m \u001b[1;32mdef\u001b[0m \u001b[0mopen_file_cm\u001b[0m\u001b[1;33m(\u001b[0m\u001b[0mpath_or_file\u001b[0m\u001b[1;33m,\u001b[0m \u001b[0mmode\u001b[0m\u001b[1;33m=\u001b[0m\u001b[1;34m\"r\"\u001b[0m\u001b[1;33m,\u001b[0m \u001b[0mencoding\u001b[0m\u001b[1;33m=\u001b[0m\u001b[1;32mNone\u001b[0m\u001b[1;33m)\u001b[0m\u001b[1;33m:\u001b[0m\u001b[1;33m\u001b[0m\u001b[1;33m\u001b[0m\u001b[0m\n\u001b[0;32m    446\u001b[0m     \u001b[1;34mr\"\"\"Pass through file objects and context-manage `.PathLike`\\s.\"\"\"\u001b[0m\u001b[1;33m\u001b[0m\u001b[1;33m\u001b[0m\u001b[0m\n\u001b[1;32m--> 447\u001b[1;33m     \u001b[0mfh\u001b[0m\u001b[1;33m,\u001b[0m \u001b[0mopened\u001b[0m \u001b[1;33m=\u001b[0m \u001b[0mto_filehandle\u001b[0m\u001b[1;33m(\u001b[0m\u001b[0mpath_or_file\u001b[0m\u001b[1;33m,\u001b[0m \u001b[0mmode\u001b[0m\u001b[1;33m,\u001b[0m \u001b[1;32mTrue\u001b[0m\u001b[1;33m,\u001b[0m \u001b[0mencoding\u001b[0m\u001b[1;33m)\u001b[0m\u001b[1;33m\u001b[0m\u001b[1;33m\u001b[0m\u001b[0m\n\u001b[0m\u001b[0;32m    448\u001b[0m     \u001b[1;32mif\u001b[0m \u001b[0mopened\u001b[0m\u001b[1;33m:\u001b[0m\u001b[1;33m\u001b[0m\u001b[1;33m\u001b[0m\u001b[0m\n\u001b[0;32m    449\u001b[0m         \u001b[1;32mwith\u001b[0m \u001b[0mfh\u001b[0m\u001b[1;33m:\u001b[0m\u001b[1;33m\u001b[0m\u001b[1;33m\u001b[0m\u001b[0m\n",
      "\u001b[1;32mC:\\Users\\carol\\OneDrive\\Bureau\\WPy64-3740\\python-3.7.4.amd64\\lib\\site-packages\\matplotlib\\cbook\\__init__.py\u001b[0m in \u001b[0;36mto_filehandle\u001b[1;34m(fname, flag, return_opened, encoding)\u001b[0m\n\u001b[0;32m    430\u001b[0m             \u001b[0mfh\u001b[0m \u001b[1;33m=\u001b[0m \u001b[0mbz2\u001b[0m\u001b[1;33m.\u001b[0m\u001b[0mBZ2File\u001b[0m\u001b[1;33m(\u001b[0m\u001b[0mfname\u001b[0m\u001b[1;33m,\u001b[0m \u001b[0mflag\u001b[0m\u001b[1;33m)\u001b[0m\u001b[1;33m\u001b[0m\u001b[1;33m\u001b[0m\u001b[0m\n\u001b[0;32m    431\u001b[0m         \u001b[1;32melse\u001b[0m\u001b[1;33m:\u001b[0m\u001b[1;33m\u001b[0m\u001b[1;33m\u001b[0m\u001b[0m\n\u001b[1;32m--> 432\u001b[1;33m             \u001b[0mfh\u001b[0m \u001b[1;33m=\u001b[0m \u001b[0mopen\u001b[0m\u001b[1;33m(\u001b[0m\u001b[0mfname\u001b[0m\u001b[1;33m,\u001b[0m \u001b[0mflag\u001b[0m\u001b[1;33m,\u001b[0m \u001b[0mencoding\u001b[0m\u001b[1;33m=\u001b[0m\u001b[0mencoding\u001b[0m\u001b[1;33m)\u001b[0m\u001b[1;33m\u001b[0m\u001b[1;33m\u001b[0m\u001b[0m\n\u001b[0m\u001b[0;32m    433\u001b[0m         \u001b[0mopened\u001b[0m \u001b[1;33m=\u001b[0m \u001b[1;32mTrue\u001b[0m\u001b[1;33m\u001b[0m\u001b[1;33m\u001b[0m\u001b[0m\n\u001b[0;32m    434\u001b[0m     \u001b[1;32melif\u001b[0m \u001b[0mhasattr\u001b[0m\u001b[1;33m(\u001b[0m\u001b[0mfname\u001b[0m\u001b[1;33m,\u001b[0m \u001b[1;34m'seek'\u001b[0m\u001b[1;33m)\u001b[0m\u001b[1;33m:\u001b[0m\u001b[1;33m\u001b[0m\u001b[1;33m\u001b[0m\u001b[0m\n",
      "\u001b[1;31mFileNotFoundError\u001b[0m: [Errno 2] No such file or directory: 'C:/Users/x/Documents/Projet simplon/Certification Data/Présentation finale/monthly_consumption_pers.png'"
     ]
    },
    {
     "data": {
      "image/png": "[encoded data removed]",
      "text/plain": [
       "<Figure size 432x288 with 1 Axes>"
      ]
     },
     "metadata": {
      "needs_background": "light"
     },
     "output_type": "display_data"
    }
   ],
   "source": [
    "# Graphique consommation mensuelle par personne d'un foyer donné\n",
    "\n",
    "## Data for plotting\n",
    "t = sub2set_df_consumptions_users_monthly_pers.index[1:-1] ### Je prends en compte que les mois pleins, j'enlève Février et Juillet\n",
    "s = sub2set_df_consumptions_users_monthly_pers['consumption'][1:-1] ### Je ne prends en compte que les mois pleins\n",
    "\n",
    "fig, ax = plt.subplots()\n",
    "ax.plot(t, s)\n",
    "\n",
    "ax.set(xlabel='Month', ylabel='Watt',\n",
    "       title='Monthly consumption per person')\n",
    "ax.grid()\n",
    "\n",
    "fig.savefig(\"C:/Users/x/Documents/Projet simplon/Certification Data/Présentation finale/monthly_consumption_pers.png\")\n",
    "plt.show()"
   ]
  },
  {
   "cell_type": "markdown",
   "metadata": {},
   "source": [
    "<h3>B) Graphique consommation hebodomadaire</h3>"
   ]
  },
  {
   "cell_type": "markdown",
   "metadata": {},
   "source": [
    "<h4>1- Consommation hebdomadaire pour un user (foyer) donné</h4>"
   ]
  },
  {
   "cell_type": "code",
   "execution_count": 29,
   "metadata": {},
   "outputs": [
    {
     "data": {
      "text/html": [
       "<div>\n",
       "<style scoped>\n",
       "    .dataframe tbody tr th:only-of-type {\n",
       "        vertical-align: middle;\n",
       "    }\n",
       "\n",
       "    .dataframe tbody tr th {\n",
       "        vertical-align: top;\n",
       "    }\n",
       "\n",
       "    .dataframe thead th {\n",
       "        text-align: right;\n",
       "    }\n",
       "</style>\n",
       "<table border=\"1\" class=\"dataframe\">\n",
       "  <thead>\n",
       "    <tr style=\"text-align: right;\">\n",
       "      <th></th>\n",
       "      <th>consumption</th>\n",
       "      <th>carbon_footprint</th>\n",
       "    </tr>\n",
       "    <tr>\n",
       "      <th>timeslot</th>\n",
       "      <th></th>\n",
       "      <th></th>\n",
       "    </tr>\n",
       "  </thead>\n",
       "  <tbody>\n",
       "    <tr>\n",
       "      <th>6</th>\n",
       "      <td>8928</td>\n",
       "      <td>303.877</td>\n",
       "    </tr>\n",
       "    <tr>\n",
       "      <th>7</th>\n",
       "      <td>85278</td>\n",
       "      <td>4837.689</td>\n",
       "    </tr>\n",
       "    <tr>\n",
       "      <th>8</th>\n",
       "      <td>57107</td>\n",
       "      <td>3345.272</td>\n",
       "    </tr>\n",
       "    <tr>\n",
       "      <th>9</th>\n",
       "      <td>87556</td>\n",
       "      <td>4235.694</td>\n",
       "    </tr>\n",
       "    <tr>\n",
       "      <th>10</th>\n",
       "      <td>79385</td>\n",
       "      <td>2527.910</td>\n",
       "    </tr>\n",
       "  </tbody>\n",
       "</table>\n",
       "</div>"
      ],
      "text/plain": [
       "          consumption  carbon_footprint\n",
       "timeslot                               \n",
       "6                8928           303.877\n",
       "7               85278          4837.689\n",
       "8               57107          3345.272\n",
       "9               87556          4235.694\n",
       "10              79385          2527.910"
      ]
     },
     "execution_count": 29,
     "metadata": {},
     "output_type": "execute_result"
    }
   ],
   "source": [
    "# Création d'un dataframe pour un user donné pour chaque semaine\n",
    "sub2set_df_consumptions_users_weekly=sub2set_df_consumptions_users.groupby([subset_df_consumptions_users['timeslot'].dt.week]).sum()\n",
    "sub2set_df_consumptions_users_weekly.head()"
   ]
  },
  {
   "cell_type": "code",
   "execution_count": 31,
   "metadata": {},
   "outputs": [
    {
     "data": {
      "image/png": "[encoded data removed]",
      "text/plain": [
       "<Figure size 432x288 with 1 Axes>"
      ]
     },
     "metadata": {
      "needs_background": "light"
     },
     "output_type": "display_data"
    }
   ],
   "source": [
    "# Graphique consommation hebdomadaire pour un utilisateur donné (foyer)\n",
    "\n",
    "## Data for plotting\n",
    "t = sub2set_df_consumptions_users_weekly.index[1:-1] ### Je prends en compte que les mois pleins, j'enlève Février et Juillet\n",
    "s = sub2set_df_consumptions_users_weekly['consumption'][1:-1] ### Je ne prends en compte que les mois pleins\n",
    "\n",
    "fig, ax = plt.subplots()\n",
    "ax.plot(t, s)\n",
    "\n",
    "ax.set(xlabel='Week', ylabel='Watt',\n",
    "       title='Weekly consumption for a household')\n",
    "ax.grid()\n",
    "\n",
    "fig.savefig(\"C:/Caroline/Pro Caro/DEVELOPPEUR/Projet certif Simplon 2019/Final/output/weekly_consumption.png\")\n",
    "plt.show()"
   ]
  },
  {
   "cell_type": "markdown",
   "metadata": {},
   "source": [
    "<h4>2- Consommation hebdomadaire par personne  pour un user (foyer) donné</h4>"
   ]
  },
  {
   "cell_type": "code",
   "execution_count": 32,
   "metadata": {},
   "outputs": [
    {
     "data": {
      "text/html": [
       "<div>\n",
       "<style scoped>\n",
       "    .dataframe tbody tr th:only-of-type {\n",
       "        vertical-align: middle;\n",
       "    }\n",
       "\n",
       "    .dataframe tbody tr th {\n",
       "        vertical-align: top;\n",
       "    }\n",
       "\n",
       "    .dataframe thead th {\n",
       "        text-align: right;\n",
       "    }\n",
       "</style>\n",
       "<table border=\"1\" class=\"dataframe\">\n",
       "  <thead>\n",
       "    <tr style=\"text-align: right;\">\n",
       "      <th></th>\n",
       "      <th>consumption</th>\n",
       "      <th>carbon_footprint</th>\n",
       "    </tr>\n",
       "    <tr>\n",
       "      <th>timeslot</th>\n",
       "      <th></th>\n",
       "      <th></th>\n",
       "    </tr>\n",
       "  </thead>\n",
       "  <tbody>\n",
       "    <tr>\n",
       "      <th>6</th>\n",
       "      <td>4464.0</td>\n",
       "      <td>151.9385</td>\n",
       "    </tr>\n",
       "    <tr>\n",
       "      <th>7</th>\n",
       "      <td>42639.0</td>\n",
       "      <td>2418.8445</td>\n",
       "    </tr>\n",
       "    <tr>\n",
       "      <th>8</th>\n",
       "      <td>28553.5</td>\n",
       "      <td>1672.6360</td>\n",
       "    </tr>\n",
       "    <tr>\n",
       "      <th>9</th>\n",
       "      <td>43778.0</td>\n",
       "      <td>2117.8470</td>\n",
       "    </tr>\n",
       "    <tr>\n",
       "      <th>10</th>\n",
       "      <td>39692.5</td>\n",
       "      <td>1263.9550</td>\n",
       "    </tr>\n",
       "  </tbody>\n",
       "</table>\n",
       "</div>"
      ],
      "text/plain": [
       "          consumption  carbon_footprint\n",
       "timeslot                               \n",
       "6              4464.0          151.9385\n",
       "7             42639.0         2418.8445\n",
       "8             28553.5         1672.6360\n",
       "9             43778.0         2117.8470\n",
       "10            39692.5         1263.9550"
      ]
     },
     "execution_count": 32,
     "metadata": {},
     "output_type": "execute_result"
    }
   ],
   "source": [
    "# Création d'un dataframe hebdomadaire des consommations et émissions de CO² par personne dans un foyer donné\n",
    "sub2set_df_consumptions_users_weekly_pers = sub2set_df_consumptions_users_weekly / (subset_df_consumptions_users['number_people'][idx])\n",
    "sub2set_df_consumptions_users_weekly_pers.head()"
   ]
  },
  {
   "cell_type": "code",
   "execution_count": 34,
   "metadata": {
    "scrolled": true
   },
   "outputs": [
    {
     "data": {
      "image/png": "[encoded data removed]",
      "text/plain": [
       "<Figure size 432x288 with 1 Axes>"
      ]
     },
     "metadata": {
      "needs_background": "light"
     },
     "output_type": "display_data"
    }
   ],
   "source": [
    "# Graphique consommation hebdomadaire par personne pour un utilisateur donné (foyer)\n",
    "\n",
    "## Data for plotting\n",
    "t = sub2set_df_consumptions_users_weekly_pers.index[1:-1] ### Je prends en compte que les mois pleins, j'enlève Février et Juillet\n",
    "s = sub2set_df_consumptions_users_weekly_pers['consumption'][1:-1] ### Je ne prends en compte que les mois pleins\n",
    "\n",
    "fig, ax = plt.subplots()\n",
    "ax.plot(t, s)\n",
    "\n",
    "ax.set(xlabel='Week', ylabel='Watt',\n",
    "       title='Weekly consumption per person')\n",
    "ax.grid()\n",
    "\n",
    "fig.savefig(\"C:/Caroline/Pro Caro/DEVELOPPEUR/Projet certif Simplon 2019/Final/output/weekly_consumption_pers.png\")\n",
    "plt.show()"
   ]
  },
  {
   "cell_type": "markdown",
   "metadata": {},
   "source": [
    "<h2>III- Analyse de l'empreinte carbone pour un utilisateur donné</h2>"
   ]
  },
  {
   "cell_type": "code",
   "execution_count": 35,
   "metadata": {
    "scrolled": true
   },
   "outputs": [],
   "source": [
    "# Création d'un dataframe pour un user donné cumulé pour chaque mois\n",
    "sub3set_df_consumptions_users_weekly=sub2set_df_consumptions_users.groupby([subset_df_consumptions_users['timeslot'].dt.week]).sum()\n",
    "sub4set_df_consumptions_users_weekly=sub3set_df_consumptions_users_weekly.cumsum()"
   ]
  },
  {
   "cell_type": "code",
   "execution_count": 36,
   "metadata": {},
   "outputs": [
    {
     "data": {
      "image/png": "[encoded data removed]",
      "text/plain": [
       "<Figure size 432x288 with 1 Axes>"
      ]
     },
     "metadata": {
      "needs_background": "light"
     },
     "output_type": "display_data"
    }
   ],
   "source": [
    "fig = plt.figure()\n",
    "\n",
    "x = sub3set_df_consumptions_users_weekly.index.tolist()\n",
    "height = sub4set_df_consumptions_users_weekly['carbon_footprint'].tolist()\n",
    "width = 0.7\n",
    "plt.title('Accumulated carbon footprint for a household')\n",
    "plt.bar(x, height, width, color='b' )\n",
    "\n",
    "plt.savefig('C:/Caroline/Pro Caro/DEVELOPPEUR/Projet certif Simplon 2019/Final/output/weekly_footprint_household.png')\n",
    "plt.show()"
   ]
  }
 ],
 "metadata": {
  "kernelspec": {
   "display_name": "Python 3",
   "language": "python",
   "name": "python3"
  },
  "language_info": {
   "codemirror_mode": {
    "name": "ipython",
    "version": 3
   },
   "file_extension": ".py",
   "mimetype": "text/x-python",
   "name": "python",
   "nbconvert_exporter": "python",
   "pygments_lexer": "ipython3",
   "version": "3.7.4"
  }
 },
 "nbformat": 4,
 "nbformat_minor": 2
}
