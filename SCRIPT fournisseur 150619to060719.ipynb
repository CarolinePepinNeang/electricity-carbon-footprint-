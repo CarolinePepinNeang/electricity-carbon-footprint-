{
 "cells": [
  {
   "cell_type": "markdown",
   "metadata": {},
   "source": [
    "\n",
    "<h1>Projet Certification : <br>Traitement csv fournisseur</h1>"
   ]
  },
  {
   "cell_type": "code",
   "execution_count": 1,
   "metadata": {},
   "outputs": [],
   "source": [
    "import os\n",
    "import pandas as pd"
   ]
  },
  {
   "cell_type": "markdown",
   "metadata": {},
   "source": [
    "<h2>A) Importation des données de consommations</h2>"
   ]
  },
  {
   "cell_type": "code",
   "execution_count": 2,
   "metadata": {},
   "outputs": [],
   "source": [
    "# Je crée un dataframe et j'ouvre le CSV que j'ai récupéré via le site de mon fournisseur\n",
    "df = pd.read_csv('C:/Users/x/Documents/Projet simplon/Certification Data/Code/fournisseur/releves/conso_250619to060719.csv', sep = ';')"
   ]
  },
  {
   "cell_type": "code",
   "execution_count": 3,
   "metadata": {},
   "outputs": [
    {
     "data": {
      "text/html": [
       "<div>\n",
       "<style scoped>\n",
       "    .dataframe tbody tr th:only-of-type {\n",
       "        vertical-align: middle;\n",
       "    }\n",
       "\n",
       "    .dataframe tbody tr th {\n",
       "        vertical-align: top;\n",
       "    }\n",
       "\n",
       "    .dataframe thead th {\n",
       "        text-align: right;\n",
       "    }\n",
       "</style>\n",
       "<table border=\"1\" class=\"dataframe\">\n",
       "  <thead>\n",
       "    <tr style=\"text-align: right;\">\n",
       "      <th></th>\n",
       "      <th>Énergie</th>\n",
       "      <th>Date</th>\n",
       "      <th>Consommation</th>\n",
       "    </tr>\n",
       "  </thead>\n",
       "  <tbody>\n",
       "    <tr>\n",
       "      <th>0</th>\n",
       "      <td>Électricité</td>\n",
       "      <td>25/06/2019 00:00:00</td>\n",
       "      <td>0.72 kWh</td>\n",
       "    </tr>\n",
       "    <tr>\n",
       "      <th>1</th>\n",
       "      <td>Électricité</td>\n",
       "      <td>25/06/2019 00:30:00</td>\n",
       "      <td>0.711 kWh</td>\n",
       "    </tr>\n",
       "    <tr>\n",
       "      <th>2</th>\n",
       "      <td>Électricité</td>\n",
       "      <td>25/06/2019 01:00:00</td>\n",
       "      <td>0.712 kWh</td>\n",
       "    </tr>\n",
       "    <tr>\n",
       "      <th>3</th>\n",
       "      <td>Électricité</td>\n",
       "      <td>25/06/2019 01:30:00</td>\n",
       "      <td>0.709 kWh</td>\n",
       "    </tr>\n",
       "    <tr>\n",
       "      <th>4</th>\n",
       "      <td>Électricité</td>\n",
       "      <td>25/06/2019 02:00:00</td>\n",
       "      <td>0.711 kWh</td>\n",
       "    </tr>\n",
       "    <tr>\n",
       "      <th>5</th>\n",
       "      <td>Électricité</td>\n",
       "      <td>25/06/2019 02:30:00</td>\n",
       "      <td>0.508 kWh</td>\n",
       "    </tr>\n",
       "    <tr>\n",
       "      <th>6</th>\n",
       "      <td>Électricité</td>\n",
       "      <td>25/06/2019 03:00:00</td>\n",
       "      <td>0.068 kWh</td>\n",
       "    </tr>\n",
       "    <tr>\n",
       "      <th>7</th>\n",
       "      <td>Électricité</td>\n",
       "      <td>25/06/2019 03:30:00</td>\n",
       "      <td>0.067 kWh</td>\n",
       "    </tr>\n",
       "    <tr>\n",
       "      <th>8</th>\n",
       "      <td>Électricité</td>\n",
       "      <td>25/06/2019 04:00:00</td>\n",
       "      <td>0.066 kWh</td>\n",
       "    </tr>\n",
       "    <tr>\n",
       "      <th>9</th>\n",
       "      <td>Électricité</td>\n",
       "      <td>25/06/2019 04:30:00</td>\n",
       "      <td>0.065 kWh</td>\n",
       "    </tr>\n",
       "    <tr>\n",
       "      <th>10</th>\n",
       "      <td>Électricité</td>\n",
       "      <td>25/06/2019 05:00:00</td>\n",
       "      <td>0.066 kWh</td>\n",
       "    </tr>\n",
       "    <tr>\n",
       "      <th>11</th>\n",
       "      <td>Électricité</td>\n",
       "      <td>25/06/2019 05:30:00</td>\n",
       "      <td>0.065 kWh</td>\n",
       "    </tr>\n",
       "    <tr>\n",
       "      <th>12</th>\n",
       "      <td>Électricité</td>\n",
       "      <td>25/06/2019 06:00:00</td>\n",
       "      <td>0.065 kWh</td>\n",
       "    </tr>\n",
       "    <tr>\n",
       "      <th>13</th>\n",
       "      <td>Électricité</td>\n",
       "      <td>25/06/2019 06:30:00</td>\n",
       "      <td>0.065 kWh</td>\n",
       "    </tr>\n",
       "    <tr>\n",
       "      <th>14</th>\n",
       "      <td>Électricité</td>\n",
       "      <td>25/06/2019 07:00:00</td>\n",
       "      <td>0.065 kWh</td>\n",
       "    </tr>\n",
       "    <tr>\n",
       "      <th>15</th>\n",
       "      <td>Électricité</td>\n",
       "      <td>25/06/2019 07:30:00</td>\n",
       "      <td>0.026 kWh</td>\n",
       "    </tr>\n",
       "    <tr>\n",
       "      <th>16</th>\n",
       "      <td>Électricité</td>\n",
       "      <td>25/06/2019 08:00:00</td>\n",
       "      <td>0.022 kWh</td>\n",
       "    </tr>\n",
       "    <tr>\n",
       "      <th>17</th>\n",
       "      <td>Électricité</td>\n",
       "      <td>25/06/2019 08:30:00</td>\n",
       "      <td>0.433 kWh</td>\n",
       "    </tr>\n",
       "    <tr>\n",
       "      <th>18</th>\n",
       "      <td>Électricité</td>\n",
       "      <td>25/06/2019 09:00:00</td>\n",
       "      <td>0.681 kWh</td>\n",
       "    </tr>\n",
       "    <tr>\n",
       "      <th>19</th>\n",
       "      <td>Électricité</td>\n",
       "      <td>25/06/2019 09:30:00</td>\n",
       "      <td>0.158 kWh</td>\n",
       "    </tr>\n",
       "    <tr>\n",
       "      <th>20</th>\n",
       "      <td>Électricité</td>\n",
       "      <td>25/06/2019 10:00:00</td>\n",
       "      <td>0.065 kWh</td>\n",
       "    </tr>\n",
       "    <tr>\n",
       "      <th>21</th>\n",
       "      <td>Électricité</td>\n",
       "      <td>25/06/2019 10:30:00</td>\n",
       "      <td>0.065 kWh</td>\n",
       "    </tr>\n",
       "    <tr>\n",
       "      <th>22</th>\n",
       "      <td>Électricité</td>\n",
       "      <td>25/06/2019 11:00:00</td>\n",
       "      <td>0.065 kWh</td>\n",
       "    </tr>\n",
       "    <tr>\n",
       "      <th>23</th>\n",
       "      <td>Électricité</td>\n",
       "      <td>25/06/2019 11:30:00</td>\n",
       "      <td>0.065 kWh</td>\n",
       "    </tr>\n",
       "    <tr>\n",
       "      <th>24</th>\n",
       "      <td>Électricité</td>\n",
       "      <td>25/06/2019 12:00:00</td>\n",
       "      <td>0.064 kWh</td>\n",
       "    </tr>\n",
       "    <tr>\n",
       "      <th>25</th>\n",
       "      <td>Électricité</td>\n",
       "      <td>25/06/2019 12:30:00</td>\n",
       "      <td>0.064 kWh</td>\n",
       "    </tr>\n",
       "    <tr>\n",
       "      <th>26</th>\n",
       "      <td>Électricité</td>\n",
       "      <td>25/06/2019 13:00:00</td>\n",
       "      <td>0.064 kWh</td>\n",
       "    </tr>\n",
       "    <tr>\n",
       "      <th>27</th>\n",
       "      <td>Électricité</td>\n",
       "      <td>25/06/2019 13:30:00</td>\n",
       "      <td>0.063 kWh</td>\n",
       "    </tr>\n",
       "    <tr>\n",
       "      <th>28</th>\n",
       "      <td>Électricité</td>\n",
       "      <td>25/06/2019 14:00:00</td>\n",
       "      <td>0.033 kWh</td>\n",
       "    </tr>\n",
       "    <tr>\n",
       "      <th>29</th>\n",
       "      <td>Électricité</td>\n",
       "      <td>25/06/2019 14:30:00</td>\n",
       "      <td>0.016 kWh</td>\n",
       "    </tr>\n",
       "    <tr>\n",
       "      <th>...</th>\n",
       "      <td>...</td>\n",
       "      <td>...</td>\n",
       "      <td>...</td>\n",
       "    </tr>\n",
       "    <tr>\n",
       "      <th>499</th>\n",
       "      <td>Électricité</td>\n",
       "      <td>05/07/2019 09:30:00</td>\n",
       "      <td>0.689 kWh</td>\n",
       "    </tr>\n",
       "    <tr>\n",
       "      <th>500</th>\n",
       "      <td>Électricité</td>\n",
       "      <td>05/07/2019 10:00:00</td>\n",
       "      <td>0.654 kWh</td>\n",
       "    </tr>\n",
       "    <tr>\n",
       "      <th>501</th>\n",
       "      <td>Électricité</td>\n",
       "      <td>05/07/2019 10:30:00</td>\n",
       "      <td>0.214 kWh</td>\n",
       "    </tr>\n",
       "    <tr>\n",
       "      <th>502</th>\n",
       "      <td>Électricité</td>\n",
       "      <td>05/07/2019 11:00:00</td>\n",
       "      <td>0.016 kWh</td>\n",
       "    </tr>\n",
       "    <tr>\n",
       "      <th>503</th>\n",
       "      <td>Électricité</td>\n",
       "      <td>05/07/2019 11:30:00</td>\n",
       "      <td>0.046 kWh</td>\n",
       "    </tr>\n",
       "    <tr>\n",
       "      <th>504</th>\n",
       "      <td>Électricité</td>\n",
       "      <td>05/07/2019 12:00:00</td>\n",
       "      <td>0.066 kWh</td>\n",
       "    </tr>\n",
       "    <tr>\n",
       "      <th>505</th>\n",
       "      <td>Électricité</td>\n",
       "      <td>05/07/2019 12:30:00</td>\n",
       "      <td>0.066 kWh</td>\n",
       "    </tr>\n",
       "    <tr>\n",
       "      <th>506</th>\n",
       "      <td>Électricité</td>\n",
       "      <td>05/07/2019 13:00:00</td>\n",
       "      <td>0.066 kWh</td>\n",
       "    </tr>\n",
       "    <tr>\n",
       "      <th>507</th>\n",
       "      <td>Électricité</td>\n",
       "      <td>05/07/2019 13:30:00</td>\n",
       "      <td>0.064 kWh</td>\n",
       "    </tr>\n",
       "    <tr>\n",
       "      <th>508</th>\n",
       "      <td>Électricité</td>\n",
       "      <td>05/07/2019 14:00:00</td>\n",
       "      <td>0.083 kWh</td>\n",
       "    </tr>\n",
       "    <tr>\n",
       "      <th>509</th>\n",
       "      <td>Électricité</td>\n",
       "      <td>05/07/2019 14:30:00</td>\n",
       "      <td>0.087 kWh</td>\n",
       "    </tr>\n",
       "    <tr>\n",
       "      <th>510</th>\n",
       "      <td>Électricité</td>\n",
       "      <td>05/07/2019 15:00:00</td>\n",
       "      <td>0.108 kWh</td>\n",
       "    </tr>\n",
       "    <tr>\n",
       "      <th>511</th>\n",
       "      <td>Électricité</td>\n",
       "      <td>05/07/2019 15:30:00</td>\n",
       "      <td>0.689 kWh</td>\n",
       "    </tr>\n",
       "    <tr>\n",
       "      <th>512</th>\n",
       "      <td>Électricité</td>\n",
       "      <td>05/07/2019 16:00:00</td>\n",
       "      <td>0.651 kWh</td>\n",
       "    </tr>\n",
       "    <tr>\n",
       "      <th>513</th>\n",
       "      <td>Électricité</td>\n",
       "      <td>05/07/2019 16:30:00</td>\n",
       "      <td>0.642 kWh</td>\n",
       "    </tr>\n",
       "    <tr>\n",
       "      <th>514</th>\n",
       "      <td>Électricité</td>\n",
       "      <td>05/07/2019 17:00:00</td>\n",
       "      <td>0.611 kWh</td>\n",
       "    </tr>\n",
       "    <tr>\n",
       "      <th>515</th>\n",
       "      <td>Électricité</td>\n",
       "      <td>05/07/2019 17:30:00</td>\n",
       "      <td>0.066 kWh</td>\n",
       "    </tr>\n",
       "    <tr>\n",
       "      <th>516</th>\n",
       "      <td>Électricité</td>\n",
       "      <td>05/07/2019 18:00:00</td>\n",
       "      <td>0.066 kWh</td>\n",
       "    </tr>\n",
       "    <tr>\n",
       "      <th>517</th>\n",
       "      <td>Électricité</td>\n",
       "      <td>05/07/2019 18:30:00</td>\n",
       "      <td>0.066 kWh</td>\n",
       "    </tr>\n",
       "    <tr>\n",
       "      <th>518</th>\n",
       "      <td>Électricité</td>\n",
       "      <td>05/07/2019 19:00:00</td>\n",
       "      <td>0.065 kWh</td>\n",
       "    </tr>\n",
       "    <tr>\n",
       "      <th>519</th>\n",
       "      <td>Électricité</td>\n",
       "      <td>05/07/2019 19:30:00</td>\n",
       "      <td>0.066 kWh</td>\n",
       "    </tr>\n",
       "    <tr>\n",
       "      <th>520</th>\n",
       "      <td>Électricité</td>\n",
       "      <td>05/07/2019 20:00:00</td>\n",
       "      <td>0.448 kWh</td>\n",
       "    </tr>\n",
       "    <tr>\n",
       "      <th>521</th>\n",
       "      <td>Électricité</td>\n",
       "      <td>05/07/2019 20:30:00</td>\n",
       "      <td>0.272 kWh</td>\n",
       "    </tr>\n",
       "    <tr>\n",
       "      <th>522</th>\n",
       "      <td>Électricité</td>\n",
       "      <td>05/07/2019 21:00:00</td>\n",
       "      <td>0.23 kWh</td>\n",
       "    </tr>\n",
       "    <tr>\n",
       "      <th>523</th>\n",
       "      <td>Électricité</td>\n",
       "      <td>05/07/2019 21:30:00</td>\n",
       "      <td>0.216 kWh</td>\n",
       "    </tr>\n",
       "    <tr>\n",
       "      <th>524</th>\n",
       "      <td>Électricité</td>\n",
       "      <td>05/07/2019 22:00:00</td>\n",
       "      <td>0.284 kWh</td>\n",
       "    </tr>\n",
       "    <tr>\n",
       "      <th>525</th>\n",
       "      <td>Électricité</td>\n",
       "      <td>05/07/2019 22:30:00</td>\n",
       "      <td>0.192 kWh</td>\n",
       "    </tr>\n",
       "    <tr>\n",
       "      <th>526</th>\n",
       "      <td>Électricité</td>\n",
       "      <td>05/07/2019 23:00:00</td>\n",
       "      <td>0.155 kWh</td>\n",
       "    </tr>\n",
       "    <tr>\n",
       "      <th>527</th>\n",
       "      <td>Électricité</td>\n",
       "      <td>05/07/2019 23:30:00</td>\n",
       "      <td>0.206 kWh</td>\n",
       "    </tr>\n",
       "    <tr>\n",
       "      <th>528</th>\n",
       "      <td>Électricité</td>\n",
       "      <td>06/07/2019 00:00:00</td>\n",
       "      <td>0.135 kWh</td>\n",
       "    </tr>\n",
       "  </tbody>\n",
       "</table>\n",
       "<p>529 rows × 3 columns</p>\n",
       "</div>"
      ],
      "text/plain": [
       "         Énergie                 Date Consommation\n",
       "0    Électricité  25/06/2019 00:00:00     0.72 kWh\n",
       "1    Électricité  25/06/2019 00:30:00    0.711 kWh\n",
       "2    Électricité  25/06/2019 01:00:00    0.712 kWh\n",
       "3    Électricité  25/06/2019 01:30:00    0.709 kWh\n",
       "4    Électricité  25/06/2019 02:00:00    0.711 kWh\n",
       "5    Électricité  25/06/2019 02:30:00    0.508 kWh\n",
       "6    Électricité  25/06/2019 03:00:00    0.068 kWh\n",
       "7    Électricité  25/06/2019 03:30:00    0.067 kWh\n",
       "8    Électricité  25/06/2019 04:00:00    0.066 kWh\n",
       "9    Électricité  25/06/2019 04:30:00    0.065 kWh\n",
       "10   Électricité  25/06/2019 05:00:00    0.066 kWh\n",
       "11   Électricité  25/06/2019 05:30:00    0.065 kWh\n",
       "12   Électricité  25/06/2019 06:00:00    0.065 kWh\n",
       "13   Électricité  25/06/2019 06:30:00    0.065 kWh\n",
       "14   Électricité  25/06/2019 07:00:00    0.065 kWh\n",
       "15   Électricité  25/06/2019 07:30:00    0.026 kWh\n",
       "16   Électricité  25/06/2019 08:00:00    0.022 kWh\n",
       "17   Électricité  25/06/2019 08:30:00    0.433 kWh\n",
       "18   Électricité  25/06/2019 09:00:00    0.681 kWh\n",
       "19   Électricité  25/06/2019 09:30:00    0.158 kWh\n",
       "20   Électricité  25/06/2019 10:00:00    0.065 kWh\n",
       "21   Électricité  25/06/2019 10:30:00    0.065 kWh\n",
       "22   Électricité  25/06/2019 11:00:00    0.065 kWh\n",
       "23   Électricité  25/06/2019 11:30:00    0.065 kWh\n",
       "24   Électricité  25/06/2019 12:00:00    0.064 kWh\n",
       "25   Électricité  25/06/2019 12:30:00    0.064 kWh\n",
       "26   Électricité  25/06/2019 13:00:00    0.064 kWh\n",
       "27   Électricité  25/06/2019 13:30:00    0.063 kWh\n",
       "28   Électricité  25/06/2019 14:00:00    0.033 kWh\n",
       "29   Électricité  25/06/2019 14:30:00    0.016 kWh\n",
       "..           ...                  ...          ...\n",
       "499  Électricité  05/07/2019 09:30:00    0.689 kWh\n",
       "500  Électricité  05/07/2019 10:00:00    0.654 kWh\n",
       "501  Électricité  05/07/2019 10:30:00    0.214 kWh\n",
       "502  Électricité  05/07/2019 11:00:00    0.016 kWh\n",
       "503  Électricité  05/07/2019 11:30:00    0.046 kWh\n",
       "504  Électricité  05/07/2019 12:00:00    0.066 kWh\n",
       "505  Électricité  05/07/2019 12:30:00    0.066 kWh\n",
       "506  Électricité  05/07/2019 13:00:00    0.066 kWh\n",
       "507  Électricité  05/07/2019 13:30:00    0.064 kWh\n",
       "508  Électricité  05/07/2019 14:00:00    0.083 kWh\n",
       "509  Électricité  05/07/2019 14:30:00    0.087 kWh\n",
       "510  Électricité  05/07/2019 15:00:00    0.108 kWh\n",
       "511  Électricité  05/07/2019 15:30:00    0.689 kWh\n",
       "512  Électricité  05/07/2019 16:00:00    0.651 kWh\n",
       "513  Électricité  05/07/2019 16:30:00    0.642 kWh\n",
       "514  Électricité  05/07/2019 17:00:00    0.611 kWh\n",
       "515  Électricité  05/07/2019 17:30:00    0.066 kWh\n",
       "516  Électricité  05/07/2019 18:00:00    0.066 kWh\n",
       "517  Électricité  05/07/2019 18:30:00    0.066 kWh\n",
       "518  Électricité  05/07/2019 19:00:00    0.065 kWh\n",
       "519  Électricité  05/07/2019 19:30:00    0.066 kWh\n",
       "520  Électricité  05/07/2019 20:00:00    0.448 kWh\n",
       "521  Électricité  05/07/2019 20:30:00    0.272 kWh\n",
       "522  Électricité  05/07/2019 21:00:00     0.23 kWh\n",
       "523  Électricité  05/07/2019 21:30:00    0.216 kWh\n",
       "524  Électricité  05/07/2019 22:00:00    0.284 kWh\n",
       "525  Électricité  05/07/2019 22:30:00    0.192 kWh\n",
       "526  Électricité  05/07/2019 23:00:00    0.155 kWh\n",
       "527  Électricité  05/07/2019 23:30:00    0.206 kWh\n",
       "528  Électricité  06/07/2019 00:00:00    0.135 kWh\n",
       "\n",
       "[529 rows x 3 columns]"
      ]
     },
     "execution_count": 3,
     "metadata": {},
     "output_type": "execute_result"
    }
   ],
   "source": [
    "# Je vérifie le df\n",
    "df"
   ]
  },
  {
   "cell_type": "code",
   "execution_count": 4,
   "metadata": {},
   "outputs": [
    {
     "data": {
      "text/plain": [
       "Index(['Énergie', 'Date', 'Consommation'], dtype='object')"
      ]
     },
     "execution_count": 4,
     "metadata": {},
     "output_type": "execute_result"
    }
   ],
   "source": [
    "# Je vérifie le nom des colonnes:\n",
    "df.columns"
   ]
  },
  {
   "cell_type": "markdown",
   "metadata": {},
   "source": [
    "<h2>B) Nettoyage des données</h2>"
   ]
  },
  {
   "cell_type": "markdown",
   "metadata": {},
   "source": [
    "<h3>1) Suppression de la colonne inutile</h3>"
   ]
  },
  {
   "cell_type": "code",
   "execution_count": 5,
   "metadata": {},
   "outputs": [],
   "source": [
    "# Je supprime la colonne 'Énergie' car inutile:\n",
    "del df['Énergie']"
   ]
  },
  {
   "cell_type": "code",
   "execution_count": 6,
   "metadata": {},
   "outputs": [
    {
     "data": {
      "text/plain": [
       "(529, 2)"
      ]
     },
     "execution_count": 6,
     "metadata": {},
     "output_type": "execute_result"
    }
   ],
   "source": [
    "# Je vérifie que la colonne a bien été supprimée:\n",
    "df.shape"
   ]
  },
  {
   "cell_type": "markdown",
   "metadata": {},
   "source": [
    "<h3>2) J'enlève les unités dans 'Consommation'</h3>"
   ]
  },
  {
   "cell_type": "code",
   "execution_count": 7,
   "metadata": {},
   "outputs": [],
   "source": [
    "# Dans la colonne 'Consommation', je remplace l'unité KWh par rien\n",
    "df['Consommation'] = (df['Consommation'].str.replace(\"kWh\", \"\")) "
   ]
  },
  {
   "cell_type": "code",
   "execution_count": 8,
   "metadata": {},
   "outputs": [
    {
     "data": {
      "text/html": [
       "<div>\n",
       "<style scoped>\n",
       "    .dataframe tbody tr th:only-of-type {\n",
       "        vertical-align: middle;\n",
       "    }\n",
       "\n",
       "    .dataframe tbody tr th {\n",
       "        vertical-align: top;\n",
       "    }\n",
       "\n",
       "    .dataframe thead th {\n",
       "        text-align: right;\n",
       "    }\n",
       "</style>\n",
       "<table border=\"1\" class=\"dataframe\">\n",
       "  <thead>\n",
       "    <tr style=\"text-align: right;\">\n",
       "      <th></th>\n",
       "      <th>Date</th>\n",
       "      <th>Consommation</th>\n",
       "    </tr>\n",
       "  </thead>\n",
       "  <tbody>\n",
       "    <tr>\n",
       "      <th>0</th>\n",
       "      <td>25/06/2019 00:00:00</td>\n",
       "      <td>0.72</td>\n",
       "    </tr>\n",
       "    <tr>\n",
       "      <th>1</th>\n",
       "      <td>25/06/2019 00:30:00</td>\n",
       "      <td>0.711</td>\n",
       "    </tr>\n",
       "    <tr>\n",
       "      <th>2</th>\n",
       "      <td>25/06/2019 01:00:00</td>\n",
       "      <td>0.712</td>\n",
       "    </tr>\n",
       "    <tr>\n",
       "      <th>3</th>\n",
       "      <td>25/06/2019 01:30:00</td>\n",
       "      <td>0.709</td>\n",
       "    </tr>\n",
       "    <tr>\n",
       "      <th>4</th>\n",
       "      <td>25/06/2019 02:00:00</td>\n",
       "      <td>0.711</td>\n",
       "    </tr>\n",
       "  </tbody>\n",
       "</table>\n",
       "</div>"
      ],
      "text/plain": [
       "                  Date Consommation\n",
       "0  25/06/2019 00:00:00        0.72 \n",
       "1  25/06/2019 00:30:00       0.711 \n",
       "2  25/06/2019 01:00:00       0.712 \n",
       "3  25/06/2019 01:30:00       0.709 \n",
       "4  25/06/2019 02:00:00       0.711 "
      ]
     },
     "execution_count": 8,
     "metadata": {},
     "output_type": "execute_result"
    }
   ],
   "source": [
    "# Je vérifie un extrait du dataframe, pour voir si les unités on bien été supprimées\n",
    "df.head()"
   ]
  },
  {
   "cell_type": "markdown",
   "metadata": {},
   "source": [
    "<h2>C) Pré-traitement des données : <br>Obtenir des plages de 1 heure (au lieu de 30 minutes) pour correspondre à la table ProductionFiliere</h2>"
   ]
  },
  {
   "cell_type": "markdown",
   "metadata": {},
   "source": [
    "<h3>1) Création d'une copie du dataframe pour faire les tests</h3>"
   ]
  },
  {
   "cell_type": "code",
   "execution_count": 9,
   "metadata": {},
   "outputs": [],
   "source": [
    "df_copy = df"
   ]
  },
  {
   "cell_type": "code",
   "execution_count": 10,
   "metadata": {},
   "outputs": [
    {
     "data": {
      "text/plain": [
       "Index(['Date', 'Consommation'], dtype='object')"
      ]
     },
     "execution_count": 10,
     "metadata": {},
     "output_type": "execute_result"
    }
   ],
   "source": [
    "# Je vérifie les noms des colonnes\n",
    "df_copy.columns"
   ]
  },
  {
   "cell_type": "code",
   "execution_count": 11,
   "metadata": {},
   "outputs": [
    {
     "data": {
      "text/plain": [
       "Date            object\n",
       "Consommation    object\n",
       "dtype: object"
      ]
     },
     "execution_count": 11,
     "metadata": {},
     "output_type": "execute_result"
    }
   ],
   "source": [
    "# Je vérifie le type des colonnes\n",
    "df_copy.dtypes"
   ]
  },
  {
   "cell_type": "code",
   "execution_count": 12,
   "metadata": {},
   "outputs": [
    {
     "data": {
      "text/html": [
       "<div>\n",
       "<style scoped>\n",
       "    .dataframe tbody tr th:only-of-type {\n",
       "        vertical-align: middle;\n",
       "    }\n",
       "\n",
       "    .dataframe tbody tr th {\n",
       "        vertical-align: top;\n",
       "    }\n",
       "\n",
       "    .dataframe thead th {\n",
       "        text-align: right;\n",
       "    }\n",
       "</style>\n",
       "<table border=\"1\" class=\"dataframe\">\n",
       "  <thead>\n",
       "    <tr style=\"text-align: right;\">\n",
       "      <th></th>\n",
       "      <th>Date</th>\n",
       "      <th>Consommation</th>\n",
       "    </tr>\n",
       "  </thead>\n",
       "  <tbody>\n",
       "    <tr>\n",
       "      <th>0</th>\n",
       "      <td>25/06/2019 00:00:00</td>\n",
       "      <td>0.72</td>\n",
       "    </tr>\n",
       "    <tr>\n",
       "      <th>1</th>\n",
       "      <td>25/06/2019 00:30:00</td>\n",
       "      <td>0.711</td>\n",
       "    </tr>\n",
       "    <tr>\n",
       "      <th>2</th>\n",
       "      <td>25/06/2019 01:00:00</td>\n",
       "      <td>0.712</td>\n",
       "    </tr>\n",
       "    <tr>\n",
       "      <th>3</th>\n",
       "      <td>25/06/2019 01:30:00</td>\n",
       "      <td>0.709</td>\n",
       "    </tr>\n",
       "    <tr>\n",
       "      <th>4</th>\n",
       "      <td>25/06/2019 02:00:00</td>\n",
       "      <td>0.711</td>\n",
       "    </tr>\n",
       "  </tbody>\n",
       "</table>\n",
       "</div>"
      ],
      "text/plain": [
       "                  Date Consommation\n",
       "0  25/06/2019 00:00:00        0.72 \n",
       "1  25/06/2019 00:30:00       0.711 \n",
       "2  25/06/2019 01:00:00       0.712 \n",
       "3  25/06/2019 01:30:00       0.709 \n",
       "4  25/06/2019 02:00:00       0.711 "
      ]
     },
     "execution_count": 12,
     "metadata": {},
     "output_type": "execute_result"
    }
   ],
   "source": [
    "# Je vérifie un extrait du dataframe\n",
    "df_copy.head()"
   ]
  },
  {
   "cell_type": "markdown",
   "metadata": {},
   "source": [
    "<h3>2) Transformer le type de consommation en float (au lieu d'object)</h3>"
   ]
  },
  {
   "cell_type": "code",
   "execution_count": 13,
   "metadata": {},
   "outputs": [],
   "source": [
    "# Création de la colonne 'val' qui reprend les valeurs de la colonne 'Consommation' à laquelle on transforme en type float\n",
    "df_copy['val'] = df_copy['Consommation'].astype(float)"
   ]
  },
  {
   "cell_type": "code",
   "execution_count": 14,
   "metadata": {},
   "outputs": [
    {
     "data": {
      "text/html": [
       "<div>\n",
       "<style scoped>\n",
       "    .dataframe tbody tr th:only-of-type {\n",
       "        vertical-align: middle;\n",
       "    }\n",
       "\n",
       "    .dataframe tbody tr th {\n",
       "        vertical-align: top;\n",
       "    }\n",
       "\n",
       "    .dataframe thead th {\n",
       "        text-align: right;\n",
       "    }\n",
       "</style>\n",
       "<table border=\"1\" class=\"dataframe\">\n",
       "  <thead>\n",
       "    <tr style=\"text-align: right;\">\n",
       "      <th></th>\n",
       "      <th>Date</th>\n",
       "      <th>Consommation</th>\n",
       "      <th>val</th>\n",
       "    </tr>\n",
       "  </thead>\n",
       "  <tbody>\n",
       "    <tr>\n",
       "      <th>0</th>\n",
       "      <td>25/06/2019 00:00:00</td>\n",
       "      <td>0.72</td>\n",
       "      <td>0.720</td>\n",
       "    </tr>\n",
       "    <tr>\n",
       "      <th>1</th>\n",
       "      <td>25/06/2019 00:30:00</td>\n",
       "      <td>0.711</td>\n",
       "      <td>0.711</td>\n",
       "    </tr>\n",
       "    <tr>\n",
       "      <th>2</th>\n",
       "      <td>25/06/2019 01:00:00</td>\n",
       "      <td>0.712</td>\n",
       "      <td>0.712</td>\n",
       "    </tr>\n",
       "    <tr>\n",
       "      <th>3</th>\n",
       "      <td>25/06/2019 01:30:00</td>\n",
       "      <td>0.709</td>\n",
       "      <td>0.709</td>\n",
       "    </tr>\n",
       "    <tr>\n",
       "      <th>4</th>\n",
       "      <td>25/06/2019 02:00:00</td>\n",
       "      <td>0.711</td>\n",
       "      <td>0.711</td>\n",
       "    </tr>\n",
       "  </tbody>\n",
       "</table>\n",
       "</div>"
      ],
      "text/plain": [
       "                  Date Consommation    val\n",
       "0  25/06/2019 00:00:00        0.72   0.720\n",
       "1  25/06/2019 00:30:00       0.711   0.711\n",
       "2  25/06/2019 01:00:00       0.712   0.712\n",
       "3  25/06/2019 01:30:00       0.709   0.709\n",
       "4  25/06/2019 02:00:00       0.711   0.711"
      ]
     },
     "execution_count": 14,
     "metadata": {},
     "output_type": "execute_result"
    }
   ],
   "source": [
    "# Je vérifie un extrait du nouveau dataframe\n",
    "df_copy.head()"
   ]
  },
  {
   "cell_type": "code",
   "execution_count": 15,
   "metadata": {},
   "outputs": [
    {
     "data": {
      "text/plain": [
       "Date             object\n",
       "Consommation     object\n",
       "val             float64\n",
       "dtype: object"
      ]
     },
     "execution_count": 15,
     "metadata": {},
     "output_type": "execute_result"
    }
   ],
   "source": [
    "# Je vérifie le type des colonnes\n",
    "df_copy.dtypes"
   ]
  },
  {
   "cell_type": "markdown",
   "metadata": {},
   "source": [
    "<h3>3) Transformer le type de 'Date' en datetime (au lieu d'object)</h3>"
   ]
  },
  {
   "cell_type": "code",
   "execution_count": 16,
   "metadata": {},
   "outputs": [],
   "source": [
    "# Je crée une colonne 'DateTime' qui correspond à la colonne 'Date' transformé en type datetime\n",
    "df_copy['DateTime'] = pd.to_datetime(df_copy['Date'])"
   ]
  },
  {
   "cell_type": "code",
   "execution_count": 17,
   "metadata": {
    "scrolled": true
   },
   "outputs": [
    {
     "data": {
      "text/html": [
       "<div>\n",
       "<style scoped>\n",
       "    .dataframe tbody tr th:only-of-type {\n",
       "        vertical-align: middle;\n",
       "    }\n",
       "\n",
       "    .dataframe tbody tr th {\n",
       "        vertical-align: top;\n",
       "    }\n",
       "\n",
       "    .dataframe thead th {\n",
       "        text-align: right;\n",
       "    }\n",
       "</style>\n",
       "<table border=\"1\" class=\"dataframe\">\n",
       "  <thead>\n",
       "    <tr style=\"text-align: right;\">\n",
       "      <th></th>\n",
       "      <th>Date</th>\n",
       "      <th>Consommation</th>\n",
       "      <th>val</th>\n",
       "      <th>DateTime</th>\n",
       "    </tr>\n",
       "  </thead>\n",
       "  <tbody>\n",
       "    <tr>\n",
       "      <th>0</th>\n",
       "      <td>25/06/2019 00:00:00</td>\n",
       "      <td>0.72</td>\n",
       "      <td>0.720</td>\n",
       "      <td>2019-06-25 00:00:00</td>\n",
       "    </tr>\n",
       "    <tr>\n",
       "      <th>1</th>\n",
       "      <td>25/06/2019 00:30:00</td>\n",
       "      <td>0.711</td>\n",
       "      <td>0.711</td>\n",
       "      <td>2019-06-25 00:30:00</td>\n",
       "    </tr>\n",
       "    <tr>\n",
       "      <th>2</th>\n",
       "      <td>25/06/2019 01:00:00</td>\n",
       "      <td>0.712</td>\n",
       "      <td>0.712</td>\n",
       "      <td>2019-06-25 01:00:00</td>\n",
       "    </tr>\n",
       "    <tr>\n",
       "      <th>3</th>\n",
       "      <td>25/06/2019 01:30:00</td>\n",
       "      <td>0.709</td>\n",
       "      <td>0.709</td>\n",
       "      <td>2019-06-25 01:30:00</td>\n",
       "    </tr>\n",
       "    <tr>\n",
       "      <th>4</th>\n",
       "      <td>25/06/2019 02:00:00</td>\n",
       "      <td>0.711</td>\n",
       "      <td>0.711</td>\n",
       "      <td>2019-06-25 02:00:00</td>\n",
       "    </tr>\n",
       "  </tbody>\n",
       "</table>\n",
       "</div>"
      ],
      "text/plain": [
       "                  Date Consommation    val            DateTime\n",
       "0  25/06/2019 00:00:00        0.72   0.720 2019-06-25 00:00:00\n",
       "1  25/06/2019 00:30:00       0.711   0.711 2019-06-25 00:30:00\n",
       "2  25/06/2019 01:00:00       0.712   0.712 2019-06-25 01:00:00\n",
       "3  25/06/2019 01:30:00       0.709   0.709 2019-06-25 01:30:00\n",
       "4  25/06/2019 02:00:00       0.711   0.711 2019-06-25 02:00:00"
      ]
     },
     "execution_count": 17,
     "metadata": {},
     "output_type": "execute_result"
    }
   ],
   "source": [
    "# Je vérifie un extrait du dataframe de test:\n",
    "df_copy.head()"
   ]
  },
  {
   "cell_type": "code",
   "execution_count": 18,
   "metadata": {},
   "outputs": [
    {
     "data": {
      "text/plain": [
       "Date                    object\n",
       "Consommation            object\n",
       "val                    float64\n",
       "DateTime        datetime64[ns]\n",
       "dtype: object"
      ]
     },
     "execution_count": 18,
     "metadata": {},
     "output_type": "execute_result"
    }
   ],
   "source": [
    "# Je vérifie le type des colonnes\n",
    "df_copy.dtypes"
   ]
  },
  {
   "cell_type": "markdown",
   "metadata": {},
   "source": [
    "Remarquez que le type de la colonne 'DateTime' est datetime64[ns] où ns signifie nanoseconde"
   ]
  },
  {
   "cell_type": "markdown",
   "metadata": {},
   "source": [
    "<h2>D) Fusionner les lignes de 'val' par deux pour avoir des plages de 1 heure</h2>"
   ]
  },
  {
   "cell_type": "markdown",
   "metadata": {},
   "source": [
    "**Méthodologie**\n",
    "<ul>\n",
    "    <li>D'abord, je vérifie que la colonne 'val'ne comporte pas de valeurs manquantes</li>\n",
    "    <li>Ensuite, je crée une colonne 'val_2' qui correspond à la colonne 'val' mais décalée d'1 ligne avec la méthode *.shift()*.</li>\n",
    "    <li>Puis, je crée une colonne 'val_3' qui correspond à l'addition des colonnes 'val' et 'val_2'.</li>\n",
    "    <li>Enfin, je crée une colonne 'consumption_hour' qui correspond uniquement aux lignes qui m'intéressent. Pour cela, j'utilise l'index et ne prend qu'1 ligne sur 2.</li>\n",
    "</ul>"
   ]
  },
  {
   "cell_type": "markdown",
   "metadata": {},
   "source": [
    "<h3>1) Vérification pas de valeurs manquantes dans la colonne 'val'</h3>"
   ]
  },
  {
   "cell_type": "code",
   "execution_count": 19,
   "metadata": {},
   "outputs": [
    {
     "data": {
      "text/plain": [
       "0"
      ]
     },
     "execution_count": 19,
     "metadata": {},
     "output_type": "execute_result"
    }
   ],
   "source": [
    "# Je vérifie qu'il n'y a pas de NA dans ma variable\n",
    "df_copy.val.isna().sum()"
   ]
  },
  {
   "cell_type": "markdown",
   "metadata": {},
   "source": [
    "<h3>2) Création de 'val_2', en utilisant .shift()</h3>"
   ]
  },
  {
   "cell_type": "code",
   "execution_count": 20,
   "metadata": {},
   "outputs": [],
   "source": [
    "df_copy[\"val_2\"] = df_copy.val.shift(-1)"
   ]
  },
  {
   "cell_type": "code",
   "execution_count": 21,
   "metadata": {},
   "outputs": [
    {
     "data": {
      "text/html": [
       "<div>\n",
       "<style scoped>\n",
       "    .dataframe tbody tr th:only-of-type {\n",
       "        vertical-align: middle;\n",
       "    }\n",
       "\n",
       "    .dataframe tbody tr th {\n",
       "        vertical-align: top;\n",
       "    }\n",
       "\n",
       "    .dataframe thead th {\n",
       "        text-align: right;\n",
       "    }\n",
       "</style>\n",
       "<table border=\"1\" class=\"dataframe\">\n",
       "  <thead>\n",
       "    <tr style=\"text-align: right;\">\n",
       "      <th></th>\n",
       "      <th>val</th>\n",
       "      <th>DateTime</th>\n",
       "      <th>val_2</th>\n",
       "    </tr>\n",
       "  </thead>\n",
       "  <tbody>\n",
       "    <tr>\n",
       "      <th>0</th>\n",
       "      <td>0.720</td>\n",
       "      <td>2019-06-25 00:00:00</td>\n",
       "      <td>0.711</td>\n",
       "    </tr>\n",
       "    <tr>\n",
       "      <th>1</th>\n",
       "      <td>0.711</td>\n",
       "      <td>2019-06-25 00:30:00</td>\n",
       "      <td>0.712</td>\n",
       "    </tr>\n",
       "    <tr>\n",
       "      <th>2</th>\n",
       "      <td>0.712</td>\n",
       "      <td>2019-06-25 01:00:00</td>\n",
       "      <td>0.709</td>\n",
       "    </tr>\n",
       "    <tr>\n",
       "      <th>3</th>\n",
       "      <td>0.709</td>\n",
       "      <td>2019-06-25 01:30:00</td>\n",
       "      <td>0.711</td>\n",
       "    </tr>\n",
       "    <tr>\n",
       "      <th>4</th>\n",
       "      <td>0.711</td>\n",
       "      <td>2019-06-25 02:00:00</td>\n",
       "      <td>0.508</td>\n",
       "    </tr>\n",
       "  </tbody>\n",
       "</table>\n",
       "</div>"
      ],
      "text/plain": [
       "     val            DateTime  val_2\n",
       "0  0.720 2019-06-25 00:00:00  0.711\n",
       "1  0.711 2019-06-25 00:30:00  0.712\n",
       "2  0.712 2019-06-25 01:00:00  0.709\n",
       "3  0.709 2019-06-25 01:30:00  0.711\n",
       "4  0.711 2019-06-25 02:00:00  0.508"
      ]
     },
     "execution_count": 21,
     "metadata": {},
     "output_type": "execute_result"
    }
   ],
   "source": [
    "# Je vérifie un extrait et sélectionne uniquement les colonnes qui m'intéressent\n",
    "df_copy.loc[:, \"val\": \"val_2\"].head()"
   ]
  },
  {
   "cell_type": "markdown",
   "metadata": {},
   "source": [
    "***Utilisation de la méthode .loc***\n",
    "<br>(ATTENTION A EXPLICITER)\n",
    "<p>\"Lorem ipsum dolor sit amet, consectetur adipiscing elit, sed do eiusmod tempor incididunt ut labore et dolore magna aliqua. Ut enim ad minim veniam, quis nostrud exercitation ullamco laboris nisi ut aliquip ex ea commodo consequat. Duis aute irure dolor in reprehenderit in voluptate velit esse cillum dolore eu fugiat nulla pariatur. Excepteur sint occaecat cupidatat non proident, sunt in culpa qui officia deserunt mollit anim id est laborum.\"</p>"
   ]
  },
  {
   "cell_type": "markdown",
   "metadata": {},
   "source": [
    "<h3>3) Création de 'val_3'</h3>"
   ]
  },
  {
   "cell_type": "code",
   "execution_count": 22,
   "metadata": {},
   "outputs": [],
   "source": [
    "# J'additionne les colonnes 'val' et 'val_2'\n",
    "df_copy[\"val_3\"] = df_copy.loc[:, \"val\"] + df_copy.loc[:, \"val_2\"]"
   ]
  },
  {
   "cell_type": "code",
   "execution_count": 23,
   "metadata": {},
   "outputs": [
    {
     "data": {
      "text/html": [
       "<div>\n",
       "<style scoped>\n",
       "    .dataframe tbody tr th:only-of-type {\n",
       "        vertical-align: middle;\n",
       "    }\n",
       "\n",
       "    .dataframe tbody tr th {\n",
       "        vertical-align: top;\n",
       "    }\n",
       "\n",
       "    .dataframe thead th {\n",
       "        text-align: right;\n",
       "    }\n",
       "</style>\n",
       "<table border=\"1\" class=\"dataframe\">\n",
       "  <thead>\n",
       "    <tr style=\"text-align: right;\">\n",
       "      <th></th>\n",
       "      <th>Date</th>\n",
       "      <th>Consommation</th>\n",
       "      <th>val</th>\n",
       "      <th>DateTime</th>\n",
       "      <th>val_2</th>\n",
       "      <th>val_3</th>\n",
       "    </tr>\n",
       "  </thead>\n",
       "  <tbody>\n",
       "    <tr>\n",
       "      <th>0</th>\n",
       "      <td>25/06/2019 00:00:00</td>\n",
       "      <td>0.72</td>\n",
       "      <td>0.720</td>\n",
       "      <td>2019-06-25 00:00:00</td>\n",
       "      <td>0.711</td>\n",
       "      <td>1.431</td>\n",
       "    </tr>\n",
       "    <tr>\n",
       "      <th>1</th>\n",
       "      <td>25/06/2019 00:30:00</td>\n",
       "      <td>0.711</td>\n",
       "      <td>0.711</td>\n",
       "      <td>2019-06-25 00:30:00</td>\n",
       "      <td>0.712</td>\n",
       "      <td>1.423</td>\n",
       "    </tr>\n",
       "    <tr>\n",
       "      <th>2</th>\n",
       "      <td>25/06/2019 01:00:00</td>\n",
       "      <td>0.712</td>\n",
       "      <td>0.712</td>\n",
       "      <td>2019-06-25 01:00:00</td>\n",
       "      <td>0.709</td>\n",
       "      <td>1.421</td>\n",
       "    </tr>\n",
       "    <tr>\n",
       "      <th>3</th>\n",
       "      <td>25/06/2019 01:30:00</td>\n",
       "      <td>0.709</td>\n",
       "      <td>0.709</td>\n",
       "      <td>2019-06-25 01:30:00</td>\n",
       "      <td>0.711</td>\n",
       "      <td>1.420</td>\n",
       "    </tr>\n",
       "    <tr>\n",
       "      <th>4</th>\n",
       "      <td>25/06/2019 02:00:00</td>\n",
       "      <td>0.711</td>\n",
       "      <td>0.711</td>\n",
       "      <td>2019-06-25 02:00:00</td>\n",
       "      <td>0.508</td>\n",
       "      <td>1.219</td>\n",
       "    </tr>\n",
       "  </tbody>\n",
       "</table>\n",
       "</div>"
      ],
      "text/plain": [
       "                  Date Consommation    val            DateTime  val_2  val_3\n",
       "0  25/06/2019 00:00:00        0.72   0.720 2019-06-25 00:00:00  0.711  1.431\n",
       "1  25/06/2019 00:30:00       0.711   0.711 2019-06-25 00:30:00  0.712  1.423\n",
       "2  25/06/2019 01:00:00       0.712   0.712 2019-06-25 01:00:00  0.709  1.421\n",
       "3  25/06/2019 01:30:00       0.709   0.709 2019-06-25 01:30:00  0.711  1.420\n",
       "4  25/06/2019 02:00:00       0.711   0.711 2019-06-25 02:00:00  0.508  1.219"
      ]
     },
     "execution_count": 23,
     "metadata": {},
     "output_type": "execute_result"
    }
   ],
   "source": [
    "# Je vérifie un extrait du dataframe\n",
    "df_copy.head()"
   ]
  },
  {
   "cell_type": "markdown",
   "metadata": {},
   "source": [
    "<h3>4) Création de la colonne 'consumption_hour'</h3>"
   ]
  },
  {
   "cell_type": "code",
   "execution_count": 24,
   "metadata": {},
   "outputs": [
    {
     "data": {
      "text/plain": [
       "(529, 6)"
      ]
     },
     "execution_count": 24,
     "metadata": {},
     "output_type": "execute_result"
    }
   ],
   "source": [
    "# Je vérifie le shape du dataframe\n",
    "df_copy.shape"
   ]
  },
  {
   "cell_type": "code",
   "execution_count": 25,
   "metadata": {},
   "outputs": [],
   "source": [
    "# Je crée une variable index qui prend tout la longueur da dataframe avec un pas de deux [::2]\n",
    "index = df_copy.index[::2]"
   ]
  },
  {
   "cell_type": "code",
   "execution_count": 26,
   "metadata": {},
   "outputs": [
    {
     "data": {
      "text/plain": [
       "RangeIndex(start=0, stop=529, step=2)"
      ]
     },
     "execution_count": 26,
     "metadata": {},
     "output_type": "execute_result"
    }
   ],
   "source": [
    "# Je vérifie ma variable index\n",
    "index"
   ]
  },
  {
   "cell_type": "code",
   "execution_count": 27,
   "metadata": {},
   "outputs": [],
   "source": [
    "# Je crée ma colonne 'consumption_hour' qui correspond à 'val_3' à laquelle j'applique ma variable index\n",
    "df_copy['consumption_hour'] = df_copy.iloc[ index,:].val_3"
   ]
  },
  {
   "cell_type": "code",
   "execution_count": 28,
   "metadata": {},
   "outputs": [
    {
     "data": {
      "text/html": [
       "<div>\n",
       "<style scoped>\n",
       "    .dataframe tbody tr th:only-of-type {\n",
       "        vertical-align: middle;\n",
       "    }\n",
       "\n",
       "    .dataframe tbody tr th {\n",
       "        vertical-align: top;\n",
       "    }\n",
       "\n",
       "    .dataframe thead th {\n",
       "        text-align: right;\n",
       "    }\n",
       "</style>\n",
       "<table border=\"1\" class=\"dataframe\">\n",
       "  <thead>\n",
       "    <tr style=\"text-align: right;\">\n",
       "      <th></th>\n",
       "      <th>Date</th>\n",
       "      <th>Consommation</th>\n",
       "      <th>val</th>\n",
       "      <th>DateTime</th>\n",
       "      <th>val_2</th>\n",
       "      <th>val_3</th>\n",
       "      <th>consumption_hour</th>\n",
       "    </tr>\n",
       "  </thead>\n",
       "  <tbody>\n",
       "    <tr>\n",
       "      <th>0</th>\n",
       "      <td>25/06/2019 00:00:00</td>\n",
       "      <td>0.72</td>\n",
       "      <td>0.720</td>\n",
       "      <td>2019-06-25 00:00:00</td>\n",
       "      <td>0.711</td>\n",
       "      <td>1.431</td>\n",
       "      <td>1.431</td>\n",
       "    </tr>\n",
       "    <tr>\n",
       "      <th>1</th>\n",
       "      <td>25/06/2019 00:30:00</td>\n",
       "      <td>0.711</td>\n",
       "      <td>0.711</td>\n",
       "      <td>2019-06-25 00:30:00</td>\n",
       "      <td>0.712</td>\n",
       "      <td>1.423</td>\n",
       "      <td>NaN</td>\n",
       "    </tr>\n",
       "    <tr>\n",
       "      <th>2</th>\n",
       "      <td>25/06/2019 01:00:00</td>\n",
       "      <td>0.712</td>\n",
       "      <td>0.712</td>\n",
       "      <td>2019-06-25 01:00:00</td>\n",
       "      <td>0.709</td>\n",
       "      <td>1.421</td>\n",
       "      <td>1.421</td>\n",
       "    </tr>\n",
       "    <tr>\n",
       "      <th>3</th>\n",
       "      <td>25/06/2019 01:30:00</td>\n",
       "      <td>0.709</td>\n",
       "      <td>0.709</td>\n",
       "      <td>2019-06-25 01:30:00</td>\n",
       "      <td>0.711</td>\n",
       "      <td>1.420</td>\n",
       "      <td>NaN</td>\n",
       "    </tr>\n",
       "    <tr>\n",
       "      <th>4</th>\n",
       "      <td>25/06/2019 02:00:00</td>\n",
       "      <td>0.711</td>\n",
       "      <td>0.711</td>\n",
       "      <td>2019-06-25 02:00:00</td>\n",
       "      <td>0.508</td>\n",
       "      <td>1.219</td>\n",
       "      <td>1.219</td>\n",
       "    </tr>\n",
       "  </tbody>\n",
       "</table>\n",
       "</div>"
      ],
      "text/plain": [
       "                  Date Consommation    val            DateTime  val_2  val_3  \\\n",
       "0  25/06/2019 00:00:00        0.72   0.720 2019-06-25 00:00:00  0.711  1.431   \n",
       "1  25/06/2019 00:30:00       0.711   0.711 2019-06-25 00:30:00  0.712  1.423   \n",
       "2  25/06/2019 01:00:00       0.712   0.712 2019-06-25 01:00:00  0.709  1.421   \n",
       "3  25/06/2019 01:30:00       0.709   0.709 2019-06-25 01:30:00  0.711  1.420   \n",
       "4  25/06/2019 02:00:00       0.711   0.711 2019-06-25 02:00:00  0.508  1.219   \n",
       "\n",
       "   consumption_hour  \n",
       "0             1.431  \n",
       "1               NaN  \n",
       "2             1.421  \n",
       "3               NaN  \n",
       "4             1.219  "
      ]
     },
     "execution_count": 28,
     "metadata": {},
     "output_type": "execute_result"
    }
   ],
   "source": [
    "# Je vérifie un extrait de mon nouveau dataframe\n",
    "df_copy.head()"
   ]
  },
  {
   "cell_type": "markdown",
   "metadata": {},
   "source": [
    "<h2>E) Nettoyage pour un dataframe final</h2>"
   ]
  },
  {
   "cell_type": "markdown",
   "metadata": {},
   "source": [
    "**Méthodologie**\n",
    "<ul>\n",
    "    <li>D'abord, je crée un nouveau dataframe 'MaConso', qui reprend uniquement les colonnes 'consumption_hour' et 'date_hour' et cela pour les créneaux dont j'ai besoin</li>\n",
    "    <li>Ensuite, j'effectue un reset de l'index</li>\n",
    "    <li>Enfin, je change l'ordre des colonnes</li>\n",
    "</ul>"
   ]
  },
  {
   "cell_type": "markdown",
   "metadata": {},
   "source": [
    "<h3>1) Création du dataframe MaConso</h3>"
   ]
  },
  {
   "cell_type": "code",
   "execution_count": 29,
   "metadata": {},
   "outputs": [],
   "source": [
    "# Je crée une nouvelle colonne 'date_hour' qui reprend les valeurs de la colonne 'DateTime'\n",
    "df_copy['date_hour'] = df_copy['DateTime']"
   ]
  },
  {
   "cell_type": "code",
   "execution_count": 30,
   "metadata": {},
   "outputs": [],
   "source": [
    "MaConso = df_copy.loc[:,\"consumption_hour\" : \"date_hour\"].dropna(how = 'any')"
   ]
  },
  {
   "cell_type": "code",
   "execution_count": 31,
   "metadata": {},
   "outputs": [
    {
     "data": {
      "text/plain": [
       "(264, 2)"
      ]
     },
     "execution_count": 31,
     "metadata": {},
     "output_type": "execute_result"
    }
   ],
   "source": [
    "# Je vérifie le shape de MaConso qui est 2 fois moins long que le df_copy\n",
    "MaConso.shape"
   ]
  },
  {
   "cell_type": "code",
   "execution_count": 32,
   "metadata": {},
   "outputs": [
    {
     "data": {
      "text/plain": [
       "(529, 8)"
      ]
     },
     "execution_count": 32,
     "metadata": {},
     "output_type": "execute_result"
    }
   ],
   "source": [
    "df_copy.shape"
   ]
  },
  {
   "cell_type": "markdown",
   "metadata": {},
   "source": [
    "<h3>2) Reset de l'index</h3>"
   ]
  },
  {
   "cell_type": "code",
   "execution_count": 33,
   "metadata": {},
   "outputs": [
    {
     "data": {
      "text/html": [
       "<div>\n",
       "<style scoped>\n",
       "    .dataframe tbody tr th:only-of-type {\n",
       "        vertical-align: middle;\n",
       "    }\n",
       "\n",
       "    .dataframe tbody tr th {\n",
       "        vertical-align: top;\n",
       "    }\n",
       "\n",
       "    .dataframe thead th {\n",
       "        text-align: right;\n",
       "    }\n",
       "</style>\n",
       "<table border=\"1\" class=\"dataframe\">\n",
       "  <thead>\n",
       "    <tr style=\"text-align: right;\">\n",
       "      <th></th>\n",
       "      <th>consumption_hour</th>\n",
       "      <th>date_hour</th>\n",
       "    </tr>\n",
       "  </thead>\n",
       "  <tbody>\n",
       "    <tr>\n",
       "      <th>0</th>\n",
       "      <td>1.431</td>\n",
       "      <td>2019-06-25 00:00:00</td>\n",
       "    </tr>\n",
       "    <tr>\n",
       "      <th>2</th>\n",
       "      <td>1.421</td>\n",
       "      <td>2019-06-25 01:00:00</td>\n",
       "    </tr>\n",
       "    <tr>\n",
       "      <th>4</th>\n",
       "      <td>1.219</td>\n",
       "      <td>2019-06-25 02:00:00</td>\n",
       "    </tr>\n",
       "    <tr>\n",
       "      <th>6</th>\n",
       "      <td>0.135</td>\n",
       "      <td>2019-06-25 03:00:00</td>\n",
       "    </tr>\n",
       "    <tr>\n",
       "      <th>8</th>\n",
       "      <td>0.131</td>\n",
       "      <td>2019-06-25 04:00:00</td>\n",
       "    </tr>\n",
       "  </tbody>\n",
       "</table>\n",
       "</div>"
      ],
      "text/plain": [
       "   consumption_hour           date_hour\n",
       "0             1.431 2019-06-25 00:00:00\n",
       "2             1.421 2019-06-25 01:00:00\n",
       "4             1.219 2019-06-25 02:00:00\n",
       "6             0.135 2019-06-25 03:00:00\n",
       "8             0.131 2019-06-25 04:00:00"
      ]
     },
     "execution_count": 33,
     "metadata": {},
     "output_type": "execute_result"
    }
   ],
   "source": [
    "# Je vérifie un extrait du df\n",
    "MaConso.head()"
   ]
  },
  {
   "cell_type": "code",
   "execution_count": 34,
   "metadata": {},
   "outputs": [],
   "source": [
    "#reset de l'index\n",
    "MaConso = MaConso.reset_index()"
   ]
  },
  {
   "cell_type": "code",
   "execution_count": 35,
   "metadata": {},
   "outputs": [
    {
     "data": {
      "text/html": [
       "<div>\n",
       "<style scoped>\n",
       "    .dataframe tbody tr th:only-of-type {\n",
       "        vertical-align: middle;\n",
       "    }\n",
       "\n",
       "    .dataframe tbody tr th {\n",
       "        vertical-align: top;\n",
       "    }\n",
       "\n",
       "    .dataframe thead th {\n",
       "        text-align: right;\n",
       "    }\n",
       "</style>\n",
       "<table border=\"1\" class=\"dataframe\">\n",
       "  <thead>\n",
       "    <tr style=\"text-align: right;\">\n",
       "      <th></th>\n",
       "      <th>index</th>\n",
       "      <th>consumption_hour</th>\n",
       "      <th>date_hour</th>\n",
       "    </tr>\n",
       "  </thead>\n",
       "  <tbody>\n",
       "    <tr>\n",
       "      <th>0</th>\n",
       "      <td>0</td>\n",
       "      <td>1.431</td>\n",
       "      <td>2019-06-25 00:00:00</td>\n",
       "    </tr>\n",
       "    <tr>\n",
       "      <th>1</th>\n",
       "      <td>2</td>\n",
       "      <td>1.421</td>\n",
       "      <td>2019-06-25 01:00:00</td>\n",
       "    </tr>\n",
       "    <tr>\n",
       "      <th>2</th>\n",
       "      <td>4</td>\n",
       "      <td>1.219</td>\n",
       "      <td>2019-06-25 02:00:00</td>\n",
       "    </tr>\n",
       "    <tr>\n",
       "      <th>3</th>\n",
       "      <td>6</td>\n",
       "      <td>0.135</td>\n",
       "      <td>2019-06-25 03:00:00</td>\n",
       "    </tr>\n",
       "    <tr>\n",
       "      <th>4</th>\n",
       "      <td>8</td>\n",
       "      <td>0.131</td>\n",
       "      <td>2019-06-25 04:00:00</td>\n",
       "    </tr>\n",
       "  </tbody>\n",
       "</table>\n",
       "</div>"
      ],
      "text/plain": [
       "   index  consumption_hour           date_hour\n",
       "0      0             1.431 2019-06-25 00:00:00\n",
       "1      2             1.421 2019-06-25 01:00:00\n",
       "2      4             1.219 2019-06-25 02:00:00\n",
       "3      6             0.135 2019-06-25 03:00:00\n",
       "4      8             0.131 2019-06-25 04:00:00"
      ]
     },
     "execution_count": 35,
     "metadata": {},
     "output_type": "execute_result"
    }
   ],
   "source": [
    "# Je vérifie un extrait du df\n",
    "MaConso.head()"
   ]
  },
  {
   "cell_type": "code",
   "execution_count": 36,
   "metadata": {},
   "outputs": [
    {
     "data": {
      "text/plain": [
       "Index(['index', 'consumption_hour', 'date_hour'], dtype='object')"
      ]
     },
     "execution_count": 36,
     "metadata": {},
     "output_type": "execute_result"
    }
   ],
   "source": [
    "MaConso.columns"
   ]
  },
  {
   "cell_type": "code",
   "execution_count": 37,
   "metadata": {},
   "outputs": [
    {
     "data": {
      "text/plain": [
       "(264, 3)"
      ]
     },
     "execution_count": 37,
     "metadata": {},
     "output_type": "execute_result"
    }
   ],
   "source": [
    "MaConso.shape"
   ]
  },
  {
   "cell_type": "code",
   "execution_count": 38,
   "metadata": {},
   "outputs": [],
   "source": [
    "# Je supprime la colonne index\n",
    "del MaConso['index']"
   ]
  },
  {
   "cell_type": "code",
   "execution_count": 39,
   "metadata": {},
   "outputs": [
    {
     "data": {
      "text/html": [
       "<div>\n",
       "<style scoped>\n",
       "    .dataframe tbody tr th:only-of-type {\n",
       "        vertical-align: middle;\n",
       "    }\n",
       "\n",
       "    .dataframe tbody tr th {\n",
       "        vertical-align: top;\n",
       "    }\n",
       "\n",
       "    .dataframe thead th {\n",
       "        text-align: right;\n",
       "    }\n",
       "</style>\n",
       "<table border=\"1\" class=\"dataframe\">\n",
       "  <thead>\n",
       "    <tr style=\"text-align: right;\">\n",
       "      <th></th>\n",
       "      <th>consumption_hour</th>\n",
       "      <th>date_hour</th>\n",
       "    </tr>\n",
       "  </thead>\n",
       "  <tbody>\n",
       "    <tr>\n",
       "      <th>0</th>\n",
       "      <td>1.431</td>\n",
       "      <td>2019-06-25 00:00:00</td>\n",
       "    </tr>\n",
       "    <tr>\n",
       "      <th>1</th>\n",
       "      <td>1.421</td>\n",
       "      <td>2019-06-25 01:00:00</td>\n",
       "    </tr>\n",
       "    <tr>\n",
       "      <th>2</th>\n",
       "      <td>1.219</td>\n",
       "      <td>2019-06-25 02:00:00</td>\n",
       "    </tr>\n",
       "    <tr>\n",
       "      <th>3</th>\n",
       "      <td>0.135</td>\n",
       "      <td>2019-06-25 03:00:00</td>\n",
       "    </tr>\n",
       "    <tr>\n",
       "      <th>4</th>\n",
       "      <td>0.131</td>\n",
       "      <td>2019-06-25 04:00:00</td>\n",
       "    </tr>\n",
       "  </tbody>\n",
       "</table>\n",
       "</div>"
      ],
      "text/plain": [
       "   consumption_hour           date_hour\n",
       "0             1.431 2019-06-25 00:00:00\n",
       "1             1.421 2019-06-25 01:00:00\n",
       "2             1.219 2019-06-25 02:00:00\n",
       "3             0.135 2019-06-25 03:00:00\n",
       "4             0.131 2019-06-25 04:00:00"
      ]
     },
     "execution_count": 39,
     "metadata": {},
     "output_type": "execute_result"
    }
   ],
   "source": [
    "# Je vérifie un extrait du df\n",
    "MaConso.head()"
   ]
  },
  {
   "cell_type": "code",
   "execution_count": 40,
   "metadata": {},
   "outputs": [
    {
     "data": {
      "text/plain": [
       "(264, 2)"
      ]
     },
     "execution_count": 40,
     "metadata": {},
     "output_type": "execute_result"
    }
   ],
   "source": [
    "MaConso.shape"
   ]
  },
  {
   "cell_type": "markdown",
   "metadata": {},
   "source": [
    "<h3>3) Changer l'ordre les colonnes</h3>"
   ]
  },
  {
   "cell_type": "code",
   "execution_count": 41,
   "metadata": {},
   "outputs": [],
   "source": [
    "MaConso = MaConso[['date_hour', 'consumption_hour']]"
   ]
  },
  {
   "cell_type": "code",
   "execution_count": 42,
   "metadata": {},
   "outputs": [
    {
     "data": {
      "text/html": [
       "<div>\n",
       "<style scoped>\n",
       "    .dataframe tbody tr th:only-of-type {\n",
       "        vertical-align: middle;\n",
       "    }\n",
       "\n",
       "    .dataframe tbody tr th {\n",
       "        vertical-align: top;\n",
       "    }\n",
       "\n",
       "    .dataframe thead th {\n",
       "        text-align: right;\n",
       "    }\n",
       "</style>\n",
       "<table border=\"1\" class=\"dataframe\">\n",
       "  <thead>\n",
       "    <tr style=\"text-align: right;\">\n",
       "      <th></th>\n",
       "      <th>date_hour</th>\n",
       "      <th>consumption_hour</th>\n",
       "    </tr>\n",
       "  </thead>\n",
       "  <tbody>\n",
       "    <tr>\n",
       "      <th>259</th>\n",
       "      <td>2019-05-07 19:00:00</td>\n",
       "      <td>0.131</td>\n",
       "    </tr>\n",
       "    <tr>\n",
       "      <th>260</th>\n",
       "      <td>2019-05-07 20:00:00</td>\n",
       "      <td>0.720</td>\n",
       "    </tr>\n",
       "    <tr>\n",
       "      <th>261</th>\n",
       "      <td>2019-05-07 21:00:00</td>\n",
       "      <td>0.446</td>\n",
       "    </tr>\n",
       "    <tr>\n",
       "      <th>262</th>\n",
       "      <td>2019-05-07 22:00:00</td>\n",
       "      <td>0.476</td>\n",
       "    </tr>\n",
       "    <tr>\n",
       "      <th>263</th>\n",
       "      <td>2019-05-07 23:00:00</td>\n",
       "      <td>0.361</td>\n",
       "    </tr>\n",
       "  </tbody>\n",
       "</table>\n",
       "</div>"
      ],
      "text/plain": [
       "              date_hour  consumption_hour\n",
       "259 2019-05-07 19:00:00             0.131\n",
       "260 2019-05-07 20:00:00             0.720\n",
       "261 2019-05-07 21:00:00             0.446\n",
       "262 2019-05-07 22:00:00             0.476\n",
       "263 2019-05-07 23:00:00             0.361"
      ]
     },
     "execution_count": 42,
     "metadata": {},
     "output_type": "execute_result"
    }
   ],
   "source": [
    "# Je vérifie un extrait\n",
    "MaConso.tail()"
   ]
  },
  {
   "cell_type": "code",
   "execution_count": 43,
   "metadata": {},
   "outputs": [
    {
     "data": {
      "text/plain": [
       "date_hour           0\n",
       "consumption_hour    0\n",
       "dtype: int64"
      ]
     },
     "execution_count": 43,
     "metadata": {},
     "output_type": "execute_result"
    }
   ],
   "source": [
    "# Je vérifie qu'il n'y a pas de valeurs manquantes dans mon dataframe\n",
    "MaConso.isna().sum()"
   ]
  },
  {
   "cell_type": "markdown",
   "metadata": {},
   "source": [
    "<h2>F) Exportation sur le fichier MaConsoDraft.csv</h2>"
   ]
  },
  {
   "cell_type": "code",
   "execution_count": 44,
   "metadata": {},
   "outputs": [],
   "source": [
    "# J'exporte dans le csv temporaire en append\n",
    "MaConso.to_csv('C:/Users/x/Documents/Projet simplon/Certification Data/Code/fournisseur/MaConsoDraft.csv', index = False, mode = \"a\")"
   ]
  },
  {
   "cell_type": "code",
   "execution_count": null,
   "metadata": {},
   "outputs": [],
   "source": []
  },
  {
   "cell_type": "code",
   "execution_count": null,
   "metadata": {},
   "outputs": [],
   "source": []
  },
  {
   "cell_type": "raw",
   "metadata": {
    "collapsed": true
   },
   "source": [
    "BOUCLE\n",
    "------\n",
    "\n",
    "Mettre tous les fichiers csv fournisseur dans un répertoire\n",
    "\n",
    "cf photo\n",
    "\n"
   ]
  }
 ],
 "metadata": {
  "kernelspec": {
   "display_name": "Python 3",
   "language": "python",
   "name": "python3"
  },
  "language_info": {
   "codemirror_mode": {
    "name": "ipython",
    "version": 3
   },
   "file_extension": ".py",
   "mimetype": "text/x-python",
   "name": "python",
   "nbconvert_exporter": "python",
   "pygments_lexer": "ipython3",
   "version": "3.6.7"
  }
 },
 "nbformat": 4,
 "nbformat_minor": 2
}
