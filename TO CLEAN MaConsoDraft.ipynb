{
 "cells": [
  {
   "cell_type": "markdown",
   "metadata": {},
   "source": [
    "<h1>Projet certification : Script nettoyage MaConso</h1>"
   ]
  },
  {
   "cell_type": "code",
   "execution_count": 1,
   "metadata": {},
   "outputs": [],
   "source": [
    "import os\n",
    "import pandas as pd"
   ]
  },
  {
   "cell_type": "markdown",
   "metadata": {},
   "source": [
    "**Méthodologie**\n",
    "<ul>\n",
    "    <li>Ouvrir le csv MaConsoDraft</li>\n",
    "    <li>Supprimer tous les doublons de la colonne 'date_hour'</li>\n",
    "    <li>Nettoyer la colonne 'consumption_hour' afin d'avoir un FLOAT(4,3) c'est-à-dire une précision de 3 après la virgule</li>\n",
    "    <li>Changer le type de la colonne 'date_hour' en datetime</li>\n",
    "    <li>Exporter dans un  csv</li>\n",
    "</ul>"
   ]
  },
  {
   "cell_type": "markdown",
   "metadata": {},
   "source": [
    "<h2>1) Importation des données</h2>"
   ]
  },
  {
   "cell_type": "code",
   "execution_count": 2,
   "metadata": {},
   "outputs": [],
   "source": [
    "# Je crée un dataframe et j'ouvre le CSV que j'ai récupéré via le site de mon fournisseur\n",
    "MaConsoDraft = pd.read_csv('C:/Users/x/Documents/Projet simplon/Certification Data/Code/fournisseur/MaConsoDraft.csv', sep = ',')"
   ]
  },
  {
   "cell_type": "code",
   "execution_count": 3,
   "metadata": {},
   "outputs": [
    {
     "data": {
      "text/html": [
       "<div>\n",
       "<style scoped>\n",
       "    .dataframe tbody tr th:only-of-type {\n",
       "        vertical-align: middle;\n",
       "    }\n",
       "\n",
       "    .dataframe tbody tr th {\n",
       "        vertical-align: top;\n",
       "    }\n",
       "\n",
       "    .dataframe thead th {\n",
       "        text-align: right;\n",
       "    }\n",
       "</style>\n",
       "<table border=\"1\" class=\"dataframe\">\n",
       "  <thead>\n",
       "    <tr style=\"text-align: right;\">\n",
       "      <th></th>\n",
       "      <th>date_hour</th>\n",
       "      <th>consumption_hour</th>\n",
       "    </tr>\n",
       "  </thead>\n",
       "  <tbody>\n",
       "    <tr>\n",
       "      <th>0</th>\n",
       "      <td>2019-06-25 00:00:00</td>\n",
       "      <td>1.431</td>\n",
       "    </tr>\n",
       "    <tr>\n",
       "      <th>1</th>\n",
       "      <td>2019-06-25 01:00:00</td>\n",
       "      <td>1.4209999999999998</td>\n",
       "    </tr>\n",
       "    <tr>\n",
       "      <th>2</th>\n",
       "      <td>2019-06-25 02:00:00</td>\n",
       "      <td>1.2189999999999999</td>\n",
       "    </tr>\n",
       "    <tr>\n",
       "      <th>3</th>\n",
       "      <td>2019-06-25 03:00:00</td>\n",
       "      <td>0.135</td>\n",
       "    </tr>\n",
       "    <tr>\n",
       "      <th>4</th>\n",
       "      <td>2019-06-25 04:00:00</td>\n",
       "      <td>0.131</td>\n",
       "    </tr>\n",
       "  </tbody>\n",
       "</table>\n",
       "</div>"
      ],
      "text/plain": [
       "             date_hour    consumption_hour\n",
       "0  2019-06-25 00:00:00               1.431\n",
       "1  2019-06-25 01:00:00  1.4209999999999998\n",
       "2  2019-06-25 02:00:00  1.2189999999999999\n",
       "3  2019-06-25 03:00:00               0.135\n",
       "4  2019-06-25 04:00:00               0.131"
      ]
     },
     "execution_count": 3,
     "metadata": {},
     "output_type": "execute_result"
    }
   ],
   "source": [
    "# Je vérifie un extrait du dataframe\n",
    "MaConsoDraft.head()"
   ]
  },
  {
   "cell_type": "markdown",
   "metadata": {},
   "source": [
    "<h2>2) Suppression des doublons</h2>"
   ]
  },
  {
   "cell_type": "code",
   "execution_count": 4,
   "metadata": {},
   "outputs": [
    {
     "data": {
      "text/plain": [
       "date_hour           553\n",
       "consumption_hour    553\n",
       "dtype: int64"
      ]
     },
     "execution_count": 4,
     "metadata": {},
     "output_type": "execute_result"
    }
   ],
   "source": [
    "# Je vérifie le nombre de colonnes\n",
    "MaConsoDraft.count()"
   ]
  },
  {
   "cell_type": "code",
   "execution_count": 5,
   "metadata": {},
   "outputs": [
    {
     "data": {
      "text/plain": [
       "192"
      ]
     },
     "execution_count": 5,
     "metadata": {},
     "output_type": "execute_result"
    }
   ],
   "source": [
    "# Je calcule le nombre de doublons\n",
    "MaConsoDraft.duplicated().sum()"
   ]
  },
  {
   "cell_type": "code",
   "execution_count": 6,
   "metadata": {},
   "outputs": [],
   "source": [
    "# Je crée un nouveau dataframe MaConso auquel j'insère l'ancien dataframe MaConsoDraft sans les doublons\n",
    "MaConsoDraft2 = MaConsoDraft.drop_duplicates()"
   ]
  },
  {
   "cell_type": "code",
   "execution_count": 7,
   "metadata": {
    "scrolled": true
   },
   "outputs": [
    {
     "data": {
      "text/html": [
       "<div>\n",
       "<style scoped>\n",
       "    .dataframe tbody tr th:only-of-type {\n",
       "        vertical-align: middle;\n",
       "    }\n",
       "\n",
       "    .dataframe tbody tr th {\n",
       "        vertical-align: top;\n",
       "    }\n",
       "\n",
       "    .dataframe thead th {\n",
       "        text-align: right;\n",
       "    }\n",
       "</style>\n",
       "<table border=\"1\" class=\"dataframe\">\n",
       "  <thead>\n",
       "    <tr style=\"text-align: right;\">\n",
       "      <th></th>\n",
       "      <th>date_hour</th>\n",
       "      <th>consumption_hour</th>\n",
       "    </tr>\n",
       "  </thead>\n",
       "  <tbody>\n",
       "    <tr>\n",
       "      <th>0</th>\n",
       "      <td>2019-06-25 00:00:00</td>\n",
       "      <td>1.431</td>\n",
       "    </tr>\n",
       "    <tr>\n",
       "      <th>1</th>\n",
       "      <td>2019-06-25 01:00:00</td>\n",
       "      <td>1.4209999999999998</td>\n",
       "    </tr>\n",
       "    <tr>\n",
       "      <th>2</th>\n",
       "      <td>2019-06-25 02:00:00</td>\n",
       "      <td>1.2189999999999999</td>\n",
       "    </tr>\n",
       "    <tr>\n",
       "      <th>3</th>\n",
       "      <td>2019-06-25 03:00:00</td>\n",
       "      <td>0.135</td>\n",
       "    </tr>\n",
       "    <tr>\n",
       "      <th>4</th>\n",
       "      <td>2019-06-25 04:00:00</td>\n",
       "      <td>0.131</td>\n",
       "    </tr>\n",
       "  </tbody>\n",
       "</table>\n",
       "</div>"
      ],
      "text/plain": [
       "             date_hour    consumption_hour\n",
       "0  2019-06-25 00:00:00               1.431\n",
       "1  2019-06-25 01:00:00  1.4209999999999998\n",
       "2  2019-06-25 02:00:00  1.2189999999999999\n",
       "3  2019-06-25 03:00:00               0.135\n",
       "4  2019-06-25 04:00:00               0.131"
      ]
     },
     "execution_count": 7,
     "metadata": {},
     "output_type": "execute_result"
    }
   ],
   "source": [
    "# Je vérifie un extrait du nouveau dataframe\n",
    "MaConsoDraft2.head()"
   ]
  },
  {
   "cell_type": "markdown",
   "metadata": {},
   "source": [
    "<h2>3) Nettoyage colonnes 'consumption_hour'</h2>"
   ]
  },
  {
   "cell_type": "code",
   "execution_count": 8,
   "metadata": {},
   "outputs": [
    {
     "data": {
      "text/plain": [
       "date_hour           object\n",
       "consumption_hour    object\n",
       "dtype: object"
      ]
     },
     "execution_count": 8,
     "metadata": {},
     "output_type": "execute_result"
    }
   ],
   "source": [
    "# Je vérifie le type des colonnes du dataframe\n",
    "MaConsoDraft2.dtypes"
   ]
  },
  {
   "cell_type": "code",
   "execution_count": 9,
   "metadata": {},
   "outputs": [
    {
     "data": {
      "text/html": [
       "<div>\n",
       "<style scoped>\n",
       "    .dataframe tbody tr th:only-of-type {\n",
       "        vertical-align: middle;\n",
       "    }\n",
       "\n",
       "    .dataframe tbody tr th {\n",
       "        vertical-align: top;\n",
       "    }\n",
       "\n",
       "    .dataframe thead th {\n",
       "        text-align: right;\n",
       "    }\n",
       "</style>\n",
       "<table border=\"1\" class=\"dataframe\">\n",
       "  <thead>\n",
       "    <tr style=\"text-align: right;\">\n",
       "      <th></th>\n",
       "      <th>date_hour</th>\n",
       "      <th>consumption_hour</th>\n",
       "    </tr>\n",
       "  </thead>\n",
       "  <tbody>\n",
       "    <tr>\n",
       "      <th>0</th>\n",
       "      <td>2019-06-25 00:00:00</td>\n",
       "      <td>1.431</td>\n",
       "    </tr>\n",
       "    <tr>\n",
       "      <th>1</th>\n",
       "      <td>2019-06-25 01:00:00</td>\n",
       "      <td>1.4209999999999998</td>\n",
       "    </tr>\n",
       "    <tr>\n",
       "      <th>2</th>\n",
       "      <td>2019-06-25 02:00:00</td>\n",
       "      <td>1.2189999999999999</td>\n",
       "    </tr>\n",
       "    <tr>\n",
       "      <th>3</th>\n",
       "      <td>2019-06-25 03:00:00</td>\n",
       "      <td>0.135</td>\n",
       "    </tr>\n",
       "    <tr>\n",
       "      <th>4</th>\n",
       "      <td>2019-06-25 04:00:00</td>\n",
       "      <td>0.131</td>\n",
       "    </tr>\n",
       "  </tbody>\n",
       "</table>\n",
       "</div>"
      ],
      "text/plain": [
       "             date_hour    consumption_hour\n",
       "0  2019-06-25 00:00:00               1.431\n",
       "1  2019-06-25 01:00:00  1.4209999999999998\n",
       "2  2019-06-25 02:00:00  1.2189999999999999\n",
       "3  2019-06-25 03:00:00               0.135\n",
       "4  2019-06-25 04:00:00               0.131"
      ]
     },
     "execution_count": 9,
     "metadata": {},
     "output_type": "execute_result"
    }
   ],
   "source": [
    "# Je vérifie un extrait de mon dataframe\n",
    "MaConsoDraft.head()"
   ]
  },
  {
   "cell_type": "code",
   "execution_count": 10,
   "metadata": {},
   "outputs": [
    {
     "data": {
      "text/plain": [
       "0      1.431\n",
       "1      1.421\n",
       "2      1.219\n",
       "3      0.135\n",
       "4      0.131\n",
       "5      0.131\n",
       "6      0.130\n",
       "7      0.091\n",
       "8      0.455\n",
       "9      0.839\n",
       "10     0.130\n",
       "11     0.130\n",
       "12     0.128\n",
       "13     0.127\n",
       "14     0.049\n",
       "15     0.070\n",
       "16     0.132\n",
       "17     0.131\n",
       "18     0.129\n",
       "19     0.130\n",
       "20     0.133\n",
       "21     0.131\n",
       "22     0.095\n",
       "23     0.031\n",
       "24     0.129\n",
       "25     0.154\n",
       "26     0.144\n",
       "27     0.138\n",
       "28     0.133\n",
       "29     0.131\n",
       "       ...  \n",
       "523    0.060\n",
       "524    0.491\n",
       "525    0.526\n",
       "526    1.002\n",
       "527    1.706\n",
       "528    0.487\n",
       "529    0.146\n",
       "530    0.139\n",
       "531    0.135\n",
       "532    0.326\n",
       "533    0.130\n",
       "534    0.129\n",
       "535    0.129\n",
       "536    0.129\n",
       "537    0.460\n",
       "538    1.311\n",
       "539    1.516\n",
       "540    0.259\n",
       "541    0.096\n",
       "542    0.130\n",
       "543    0.128\n",
       "544    0.127\n",
       "545    0.124\n",
       "546    0.030\n",
       "547    0.088\n",
       "548    0.130\n",
       "549    0.514\n",
       "550    0.299\n",
       "551    0.128\n",
       "552    0.127\n",
       "Name: consumption_hour, Length: 553, dtype: float64"
      ]
     },
     "execution_count": 10,
     "metadata": {},
     "output_type": "execute_result"
    }
   ],
   "source": [
    "# Je transforme la colonne en float\n",
    "pd.to_numeric(MaConsoDraft['consumption_hour'] , errors='coerce')"
   ]
  },
  {
   "cell_type": "code",
   "execution_count": 11,
   "metadata": {},
   "outputs": [],
   "source": [
    "# Je modifie la colonne 'consumption_hour' selon le code ci-dessus\n",
    "MaConsoDraft['consumption_hour'] = pd.to_numeric(MaConsoDraft['consumption_hour'] , errors='coerce')"
   ]
  },
  {
   "cell_type": "code",
   "execution_count": 12,
   "metadata": {},
   "outputs": [
    {
     "data": {
      "text/html": [
       "<div>\n",
       "<style scoped>\n",
       "    .dataframe tbody tr th:only-of-type {\n",
       "        vertical-align: middle;\n",
       "    }\n",
       "\n",
       "    .dataframe tbody tr th {\n",
       "        vertical-align: top;\n",
       "    }\n",
       "\n",
       "    .dataframe thead th {\n",
       "        text-align: right;\n",
       "    }\n",
       "</style>\n",
       "<table border=\"1\" class=\"dataframe\">\n",
       "  <thead>\n",
       "    <tr style=\"text-align: right;\">\n",
       "      <th></th>\n",
       "      <th>date_hour</th>\n",
       "      <th>consumption_hour</th>\n",
       "    </tr>\n",
       "  </thead>\n",
       "  <tbody>\n",
       "    <tr>\n",
       "      <th>0</th>\n",
       "      <td>2019-06-25 00:00:00</td>\n",
       "      <td>1.431</td>\n",
       "    </tr>\n",
       "    <tr>\n",
       "      <th>1</th>\n",
       "      <td>2019-06-25 01:00:00</td>\n",
       "      <td>1.421</td>\n",
       "    </tr>\n",
       "    <tr>\n",
       "      <th>2</th>\n",
       "      <td>2019-06-25 02:00:00</td>\n",
       "      <td>1.219</td>\n",
       "    </tr>\n",
       "    <tr>\n",
       "      <th>3</th>\n",
       "      <td>2019-06-25 03:00:00</td>\n",
       "      <td>0.135</td>\n",
       "    </tr>\n",
       "    <tr>\n",
       "      <th>4</th>\n",
       "      <td>2019-06-25 04:00:00</td>\n",
       "      <td>0.131</td>\n",
       "    </tr>\n",
       "  </tbody>\n",
       "</table>\n",
       "</div>"
      ],
      "text/plain": [
       "             date_hour  consumption_hour\n",
       "0  2019-06-25 00:00:00             1.431\n",
       "1  2019-06-25 01:00:00             1.421\n",
       "2  2019-06-25 02:00:00             1.219\n",
       "3  2019-06-25 03:00:00             0.135\n",
       "4  2019-06-25 04:00:00             0.131"
      ]
     },
     "execution_count": 12,
     "metadata": {},
     "output_type": "execute_result"
    }
   ],
   "source": [
    "# Je vérifie un extrait du dataframe\n",
    "MaConsoDraft.head()"
   ]
  },
  {
   "cell_type": "code",
   "execution_count": 13,
   "metadata": {},
   "outputs": [
    {
     "data": {
      "text/plain": [
       "date_hour            object\n",
       "consumption_hour    float64\n",
       "dtype: object"
      ]
     },
     "execution_count": 13,
     "metadata": {},
     "output_type": "execute_result"
    }
   ],
   "source": [
    "# Je vérifie le type des colonnes du dataframe\n",
    "MaConsoDraft.dtypes"
   ]
  },
  {
   "cell_type": "code",
   "execution_count": null,
   "metadata": {},
   "outputs": [],
   "source": []
  },
  {
   "cell_type": "code",
   "execution_count": 14,
   "metadata": {},
   "outputs": [
    {
     "data": {
      "text/plain": [
       "date_hour           0\n",
       "consumption_hour    1\n",
       "dtype: int64"
      ]
     },
     "execution_count": 14,
     "metadata": {},
     "output_type": "execute_result"
    }
   ],
   "source": [
    "# draft Je cherche s'il y a à présent des NaN dans le df\n",
    "MaConsoDraft.isna().sum()"
   ]
  },
  {
   "cell_type": "markdown",
   "metadata": {},
   "source": [
    "*Il y a une valeur manquante dans mon dataframe. Je souhaite le remplacer par la valeur 0.*"
   ]
  },
  {
   "cell_type": "code",
   "execution_count": null,
   "metadata": {},
   "outputs": [],
   "source": []
  },
  {
   "cell_type": "code",
   "execution_count": 15,
   "metadata": {},
   "outputs": [],
   "source": [
    "# Je crée une nouveau dataframe MaConsoDraft2 dans lequel je remplace les valeurs manquantes par 0\n",
    "MaConsoDraft2 = MaConsoDraft.fillna(0)"
   ]
  },
  {
   "cell_type": "code",
   "execution_count": 16,
   "metadata": {},
   "outputs": [
    {
     "data": {
      "text/plain": [
       "date_hour           0\n",
       "consumption_hour    0\n",
       "dtype: int64"
      ]
     },
     "execution_count": 16,
     "metadata": {},
     "output_type": "execute_result"
    }
   ],
   "source": [
    "# Je vérifie qu'il n'y a plus de valeurs manquantes dans ce nouveau dataframe\n",
    "MaConsoDraft2.isna().sum()"
   ]
  },
  {
   "cell_type": "markdown",
   "metadata": {},
   "source": [
    "<h2>4) Modifier le type de 'date_hour'</h2>"
   ]
  },
  {
   "cell_type": "code",
   "execution_count": 17,
   "metadata": {},
   "outputs": [],
   "source": [
    "MaConsoDraft['date_hour'] = pd.to_datetime(MaConsoDraft['date_hour'] , errors='coerce')"
   ]
  },
  {
   "cell_type": "code",
   "execution_count": 18,
   "metadata": {},
   "outputs": [
    {
     "data": {
      "text/plain": [
       "date_hour           datetime64[ns]\n",
       "consumption_hour           float64\n",
       "dtype: object"
      ]
     },
     "execution_count": 18,
     "metadata": {},
     "output_type": "execute_result"
    }
   ],
   "source": [
    "# Je vérifie les types de colonnes du dataframe\n",
    "MaConsoDraft.dtypes"
   ]
  },
  {
   "cell_type": "markdown",
   "metadata": {},
   "source": [
    "<h2>5) Exporter dans un fichier MaConso.csv</h2>"
   ]
  },
  {
   "cell_type": "code",
   "execution_count": 19,
   "metadata": {},
   "outputs": [],
   "source": [
    "# J'exporte dans un csv\n",
    "MaConsoDraft.to_csv('C:/ProgramData/MySQL/MySQL Server 8.0/Uploads/CertificationData/fournisseur/MaConso.csv', index = False)"
   ]
  }
 ],
 "metadata": {
  "kernelspec": {
   "display_name": "Python 3",
   "language": "python",
   "name": "python3"
  },
  "language_info": {
   "codemirror_mode": {
    "name": "ipython",
    "version": 3
   },
   "file_extension": ".py",
   "mimetype": "text/x-python",
   "name": "python",
   "nbconvert_exporter": "python",
   "pygments_lexer": "ipython3",
   "version": "3.6.7"
  }
 },
 "nbformat": 4,
 "nbformat_minor": 2
}
